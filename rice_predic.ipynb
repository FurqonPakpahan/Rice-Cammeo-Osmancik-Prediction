{
 "cells": [
  {
   "cell_type": "markdown",
   "metadata": {},
   "source": [
    "# 1. Perkenalan"
   ]
  },
  {
   "cell_type": "markdown",
   "metadata": {},
   "source": [
    "\n",
    "\n",
    "=================================================\n",
    "\n",
    "Milestone\n",
    "\n",
    "Nama  : Muhammad Furqon Pakpahan\n",
    "\n",
    "Batch : Hck - 009 \n",
    "\n",
    "Dataset : Rice (Cammeo and Osmancik), https://archive.ics.uci.edu/dataset/545/rice+cammeo+and+osmancik\n",
    "\n",
    "Objective : Meneliti dua jenis spesies beras yang bersertifikat. \n",
    "\n",
    "Problem Statement : Memahami dan membedakan karakteristik antara spesies beras Osmancik dan Cammeo. Untuk mencapai tujuan, data yang mencakup 3810 gambar biji beras dari kedua spesies tersebut telah diambil, diproses, dan fitur-fitur morfologi telah diekstraksi. Terdapat 7 fitur morfologi yang diambil untuk setiap butir beras.\n",
    "\n",
    "=================================================\n",
    "\n"
   ]
  },
  {
   "cell_type": "markdown",
   "metadata": {},
   "source": [
    "# 2. Import Libraries"
   ]
  },
  {
   "cell_type": "code",
   "execution_count": 1,
   "metadata": {},
   "outputs": [
    {
     "name": "stdout",
     "output_type": "stream",
     "text": [
      "Import Berhasil\n"
     ]
    }
   ],
   "source": [
    "# import libraries\n",
    "\n",
    "import pandas as pd\n",
    "import numpy as np\n",
    "import matplotlib.pyplot as plt\n",
    "import seaborn as sns\n",
    "import pickle\n",
    "from scipy.io import arff\n",
    "\n",
    "\n",
    "# preprocessing\n",
    "from sklearn.compose import ColumnTransformer\n",
    "from sklearn.preprocessing import RobustScaler\n",
    "from sklearn.model_selection import train_test_split\n",
    "from feature_engine.outliers import Winsorizer\n",
    "from statsmodels.stats.outliers_influence import variance_inflation_factor\n",
    "\n",
    "\n",
    "from sklearn.pipeline import make_pipeline\n",
    "from sklearn.tree import DecisionTreeClassifier\n",
    "from sklearn.ensemble import RandomForestClassifier\n",
    "from sklearn.ensemble import AdaBoostClassifier\n",
    "\n",
    "# model \n",
    "from sklearn.neighbors import KNeighborsClassifier\n",
    "from sklearn.svm import SVC\n",
    "from sklearn.model_selection import RandomizedSearchCV\n",
    "from sklearn.metrics import classification_report\n",
    "from sklearn.model_selection import cross_val_score\n",
    "from sklearn.model_selection import GridSearchCV\n",
    "from sklearn.ensemble import RandomForestClassifier\n",
    "#Untuk mengabaikan fitur peringatan\n",
    "import warnings\n",
    "warnings.filterwarnings('ignore')\n",
    "\n",
    "print(\"Import Berhasil\")"
   ]
  },
  {
   "cell_type": "markdown",
   "metadata": {},
   "source": [
    "# 3. Data Loading"
   ]
  },
  {
   "cell_type": "code",
   "execution_count": 2,
   "metadata": {},
   "outputs": [
    {
     "data": {
      "text/html": [
       "<div>\n",
       "<style scoped>\n",
       "    .dataframe tbody tr th:only-of-type {\n",
       "        vertical-align: middle;\n",
       "    }\n",
       "\n",
       "    .dataframe tbody tr th {\n",
       "        vertical-align: top;\n",
       "    }\n",
       "\n",
       "    .dataframe thead th {\n",
       "        text-align: right;\n",
       "    }\n",
       "</style>\n",
       "<table border=\"1\" class=\"dataframe\">\n",
       "  <thead>\n",
       "    <tr style=\"text-align: right;\">\n",
       "      <th></th>\n",
       "      <th>Area</th>\n",
       "      <th>Perimeter</th>\n",
       "      <th>Major_Axis_Length</th>\n",
       "      <th>Minor_Axis_Length</th>\n",
       "      <th>Eccentricity</th>\n",
       "      <th>Convex_Area</th>\n",
       "      <th>Extent</th>\n",
       "      <th>Class</th>\n",
       "    </tr>\n",
       "  </thead>\n",
       "  <tbody>\n",
       "    <tr>\n",
       "      <th>0</th>\n",
       "      <td>15231.0</td>\n",
       "      <td>525.578979</td>\n",
       "      <td>229.749878</td>\n",
       "      <td>85.093788</td>\n",
       "      <td>0.928882</td>\n",
       "      <td>15617.0</td>\n",
       "      <td>0.572896</td>\n",
       "      <td>b'Cammeo'</td>\n",
       "    </tr>\n",
       "    <tr>\n",
       "      <th>1</th>\n",
       "      <td>14656.0</td>\n",
       "      <td>494.311005</td>\n",
       "      <td>206.020065</td>\n",
       "      <td>91.730972</td>\n",
       "      <td>0.895405</td>\n",
       "      <td>15072.0</td>\n",
       "      <td>0.615436</td>\n",
       "      <td>b'Cammeo'</td>\n",
       "    </tr>\n",
       "    <tr>\n",
       "      <th>2</th>\n",
       "      <td>14634.0</td>\n",
       "      <td>501.122009</td>\n",
       "      <td>214.106781</td>\n",
       "      <td>87.768288</td>\n",
       "      <td>0.912118</td>\n",
       "      <td>14954.0</td>\n",
       "      <td>0.693259</td>\n",
       "      <td>b'Cammeo'</td>\n",
       "    </tr>\n",
       "    <tr>\n",
       "      <th>3</th>\n",
       "      <td>13176.0</td>\n",
       "      <td>458.342987</td>\n",
       "      <td>193.337387</td>\n",
       "      <td>87.448395</td>\n",
       "      <td>0.891861</td>\n",
       "      <td>13368.0</td>\n",
       "      <td>0.640669</td>\n",
       "      <td>b'Cammeo'</td>\n",
       "    </tr>\n",
       "    <tr>\n",
       "      <th>4</th>\n",
       "      <td>14688.0</td>\n",
       "      <td>507.166992</td>\n",
       "      <td>211.743378</td>\n",
       "      <td>89.312454</td>\n",
       "      <td>0.906691</td>\n",
       "      <td>15262.0</td>\n",
       "      <td>0.646024</td>\n",
       "      <td>b'Cammeo'</td>\n",
       "    </tr>\n",
       "    <tr>\n",
       "      <th>...</th>\n",
       "      <td>...</td>\n",
       "      <td>...</td>\n",
       "      <td>...</td>\n",
       "      <td>...</td>\n",
       "      <td>...</td>\n",
       "      <td>...</td>\n",
       "      <td>...</td>\n",
       "      <td>...</td>\n",
       "    </tr>\n",
       "    <tr>\n",
       "      <th>3805</th>\n",
       "      <td>11441.0</td>\n",
       "      <td>415.858002</td>\n",
       "      <td>170.486771</td>\n",
       "      <td>85.756592</td>\n",
       "      <td>0.864280</td>\n",
       "      <td>11628.0</td>\n",
       "      <td>0.681012</td>\n",
       "      <td>b'Osmancik'</td>\n",
       "    </tr>\n",
       "    <tr>\n",
       "      <th>3806</th>\n",
       "      <td>11625.0</td>\n",
       "      <td>421.390015</td>\n",
       "      <td>167.714798</td>\n",
       "      <td>89.462570</td>\n",
       "      <td>0.845850</td>\n",
       "      <td>11904.0</td>\n",
       "      <td>0.694279</td>\n",
       "      <td>b'Osmancik'</td>\n",
       "    </tr>\n",
       "    <tr>\n",
       "      <th>3807</th>\n",
       "      <td>12437.0</td>\n",
       "      <td>442.498993</td>\n",
       "      <td>183.572922</td>\n",
       "      <td>86.801979</td>\n",
       "      <td>0.881144</td>\n",
       "      <td>12645.0</td>\n",
       "      <td>0.626739</td>\n",
       "      <td>b'Osmancik'</td>\n",
       "    </tr>\n",
       "    <tr>\n",
       "      <th>3808</th>\n",
       "      <td>9882.0</td>\n",
       "      <td>392.296997</td>\n",
       "      <td>161.193985</td>\n",
       "      <td>78.210480</td>\n",
       "      <td>0.874406</td>\n",
       "      <td>10097.0</td>\n",
       "      <td>0.659064</td>\n",
       "      <td>b'Osmancik'</td>\n",
       "    </tr>\n",
       "    <tr>\n",
       "      <th>3809</th>\n",
       "      <td>11434.0</td>\n",
       "      <td>404.709991</td>\n",
       "      <td>161.079269</td>\n",
       "      <td>90.868195</td>\n",
       "      <td>0.825692</td>\n",
       "      <td>11591.0</td>\n",
       "      <td>0.802949</td>\n",
       "      <td>b'Osmancik'</td>\n",
       "    </tr>\n",
       "  </tbody>\n",
       "</table>\n",
       "<p>3810 rows × 8 columns</p>\n",
       "</div>"
      ],
      "text/plain": [
       "         Area   Perimeter  Major_Axis_Length  Minor_Axis_Length  Eccentricity  \\\n",
       "0     15231.0  525.578979         229.749878          85.093788      0.928882   \n",
       "1     14656.0  494.311005         206.020065          91.730972      0.895405   \n",
       "2     14634.0  501.122009         214.106781          87.768288      0.912118   \n",
       "3     13176.0  458.342987         193.337387          87.448395      0.891861   \n",
       "4     14688.0  507.166992         211.743378          89.312454      0.906691   \n",
       "...       ...         ...                ...                ...           ...   \n",
       "3805  11441.0  415.858002         170.486771          85.756592      0.864280   \n",
       "3806  11625.0  421.390015         167.714798          89.462570      0.845850   \n",
       "3807  12437.0  442.498993         183.572922          86.801979      0.881144   \n",
       "3808   9882.0  392.296997         161.193985          78.210480      0.874406   \n",
       "3809  11434.0  404.709991         161.079269          90.868195      0.825692   \n",
       "\n",
       "      Convex_Area    Extent        Class  \n",
       "0         15617.0  0.572896    b'Cammeo'  \n",
       "1         15072.0  0.615436    b'Cammeo'  \n",
       "2         14954.0  0.693259    b'Cammeo'  \n",
       "3         13368.0  0.640669    b'Cammeo'  \n",
       "4         15262.0  0.646024    b'Cammeo'  \n",
       "...           ...       ...          ...  \n",
       "3805      11628.0  0.681012  b'Osmancik'  \n",
       "3806      11904.0  0.694279  b'Osmancik'  \n",
       "3807      12645.0  0.626739  b'Osmancik'  \n",
       "3808      10097.0  0.659064  b'Osmancik'  \n",
       "3809      11591.0  0.802949  b'Osmancik'  \n",
       "\n",
       "[3810 rows x 8 columns]"
      ]
     },
     "execution_count": 2,
     "metadata": {},
     "output_type": "execute_result"
    }
   ],
   "source": [
    "# load dataset\n",
    "data = arff.loadarff('Rice_Cammeo_Osmancik.arff')\n",
    "# Konversi data ke DataFrame pandas\n",
    "df = pd.DataFrame(data[0])\n",
    "\n",
    "df"
   ]
  },
  {
   "cell_type": "code",
   "execution_count": 3,
   "metadata": {},
   "outputs": [],
   "source": [
    "# Menyimpan DataFrame ke dalam file CSV\n",
    "df.to_csv('rice.csv', index=False)"
   ]
  },
  {
   "cell_type": "code",
   "execution_count": 4,
   "metadata": {},
   "outputs": [
    {
     "data": {
      "text/html": [
       "<div>\n",
       "<style scoped>\n",
       "    .dataframe tbody tr th:only-of-type {\n",
       "        vertical-align: middle;\n",
       "    }\n",
       "\n",
       "    .dataframe tbody tr th {\n",
       "        vertical-align: top;\n",
       "    }\n",
       "\n",
       "    .dataframe thead th {\n",
       "        text-align: right;\n",
       "    }\n",
       "</style>\n",
       "<table border=\"1\" class=\"dataframe\">\n",
       "  <thead>\n",
       "    <tr style=\"text-align: right;\">\n",
       "      <th></th>\n",
       "      <th>Area</th>\n",
       "      <th>Perimeter</th>\n",
       "      <th>Major_Axis_Length</th>\n",
       "      <th>Minor_Axis_Length</th>\n",
       "      <th>Eccentricity</th>\n",
       "      <th>Convex_Area</th>\n",
       "      <th>Extent</th>\n",
       "      <th>Class</th>\n",
       "    </tr>\n",
       "  </thead>\n",
       "  <tbody>\n",
       "    <tr>\n",
       "      <th>0</th>\n",
       "      <td>15231.0</td>\n",
       "      <td>525.578979</td>\n",
       "      <td>229.749878</td>\n",
       "      <td>85.093788</td>\n",
       "      <td>0.928882</td>\n",
       "      <td>15617.0</td>\n",
       "      <td>0.572896</td>\n",
       "      <td>b'Cammeo'</td>\n",
       "    </tr>\n",
       "    <tr>\n",
       "      <th>1</th>\n",
       "      <td>14656.0</td>\n",
       "      <td>494.311005</td>\n",
       "      <td>206.020065</td>\n",
       "      <td>91.730972</td>\n",
       "      <td>0.895405</td>\n",
       "      <td>15072.0</td>\n",
       "      <td>0.615436</td>\n",
       "      <td>b'Cammeo'</td>\n",
       "    </tr>\n",
       "    <tr>\n",
       "      <th>2</th>\n",
       "      <td>14634.0</td>\n",
       "      <td>501.122009</td>\n",
       "      <td>214.106781</td>\n",
       "      <td>87.768288</td>\n",
       "      <td>0.912118</td>\n",
       "      <td>14954.0</td>\n",
       "      <td>0.693259</td>\n",
       "      <td>b'Cammeo'</td>\n",
       "    </tr>\n",
       "    <tr>\n",
       "      <th>3</th>\n",
       "      <td>13176.0</td>\n",
       "      <td>458.342987</td>\n",
       "      <td>193.337387</td>\n",
       "      <td>87.448395</td>\n",
       "      <td>0.891861</td>\n",
       "      <td>13368.0</td>\n",
       "      <td>0.640669</td>\n",
       "      <td>b'Cammeo'</td>\n",
       "    </tr>\n",
       "    <tr>\n",
       "      <th>4</th>\n",
       "      <td>14688.0</td>\n",
       "      <td>507.166992</td>\n",
       "      <td>211.743378</td>\n",
       "      <td>89.312454</td>\n",
       "      <td>0.906691</td>\n",
       "      <td>15262.0</td>\n",
       "      <td>0.646024</td>\n",
       "      <td>b'Cammeo'</td>\n",
       "    </tr>\n",
       "    <tr>\n",
       "      <th>...</th>\n",
       "      <td>...</td>\n",
       "      <td>...</td>\n",
       "      <td>...</td>\n",
       "      <td>...</td>\n",
       "      <td>...</td>\n",
       "      <td>...</td>\n",
       "      <td>...</td>\n",
       "      <td>...</td>\n",
       "    </tr>\n",
       "    <tr>\n",
       "      <th>3805</th>\n",
       "      <td>11441.0</td>\n",
       "      <td>415.858002</td>\n",
       "      <td>170.486771</td>\n",
       "      <td>85.756592</td>\n",
       "      <td>0.864280</td>\n",
       "      <td>11628.0</td>\n",
       "      <td>0.681012</td>\n",
       "      <td>b'Osmancik'</td>\n",
       "    </tr>\n",
       "    <tr>\n",
       "      <th>3806</th>\n",
       "      <td>11625.0</td>\n",
       "      <td>421.390015</td>\n",
       "      <td>167.714798</td>\n",
       "      <td>89.462570</td>\n",
       "      <td>0.845850</td>\n",
       "      <td>11904.0</td>\n",
       "      <td>0.694279</td>\n",
       "      <td>b'Osmancik'</td>\n",
       "    </tr>\n",
       "    <tr>\n",
       "      <th>3807</th>\n",
       "      <td>12437.0</td>\n",
       "      <td>442.498993</td>\n",
       "      <td>183.572922</td>\n",
       "      <td>86.801979</td>\n",
       "      <td>0.881144</td>\n",
       "      <td>12645.0</td>\n",
       "      <td>0.626739</td>\n",
       "      <td>b'Osmancik'</td>\n",
       "    </tr>\n",
       "    <tr>\n",
       "      <th>3808</th>\n",
       "      <td>9882.0</td>\n",
       "      <td>392.296997</td>\n",
       "      <td>161.193985</td>\n",
       "      <td>78.210480</td>\n",
       "      <td>0.874406</td>\n",
       "      <td>10097.0</td>\n",
       "      <td>0.659064</td>\n",
       "      <td>b'Osmancik'</td>\n",
       "    </tr>\n",
       "    <tr>\n",
       "      <th>3809</th>\n",
       "      <td>11434.0</td>\n",
       "      <td>404.709991</td>\n",
       "      <td>161.079269</td>\n",
       "      <td>90.868195</td>\n",
       "      <td>0.825692</td>\n",
       "      <td>11591.0</td>\n",
       "      <td>0.802949</td>\n",
       "      <td>b'Osmancik'</td>\n",
       "    </tr>\n",
       "  </tbody>\n",
       "</table>\n",
       "<p>3810 rows × 8 columns</p>\n",
       "</div>"
      ],
      "text/plain": [
       "         Area   Perimeter  Major_Axis_Length  Minor_Axis_Length  Eccentricity  \\\n",
       "0     15231.0  525.578979         229.749878          85.093788      0.928882   \n",
       "1     14656.0  494.311005         206.020065          91.730972      0.895405   \n",
       "2     14634.0  501.122009         214.106781          87.768288      0.912118   \n",
       "3     13176.0  458.342987         193.337387          87.448395      0.891861   \n",
       "4     14688.0  507.166992         211.743378          89.312454      0.906691   \n",
       "...       ...         ...                ...                ...           ...   \n",
       "3805  11441.0  415.858002         170.486771          85.756592      0.864280   \n",
       "3806  11625.0  421.390015         167.714798          89.462570      0.845850   \n",
       "3807  12437.0  442.498993         183.572922          86.801979      0.881144   \n",
       "3808   9882.0  392.296997         161.193985          78.210480      0.874406   \n",
       "3809  11434.0  404.709991         161.079269          90.868195      0.825692   \n",
       "\n",
       "      Convex_Area    Extent        Class  \n",
       "0         15617.0  0.572896    b'Cammeo'  \n",
       "1         15072.0  0.615436    b'Cammeo'  \n",
       "2         14954.0  0.693259    b'Cammeo'  \n",
       "3         13368.0  0.640669    b'Cammeo'  \n",
       "4         15262.0  0.646024    b'Cammeo'  \n",
       "...           ...       ...          ...  \n",
       "3805      11628.0  0.681012  b'Osmancik'  \n",
       "3806      11904.0  0.694279  b'Osmancik'  \n",
       "3807      12645.0  0.626739  b'Osmancik'  \n",
       "3808      10097.0  0.659064  b'Osmancik'  \n",
       "3809      11591.0  0.802949  b'Osmancik'  \n",
       "\n",
       "[3810 rows x 8 columns]"
      ]
     },
     "execution_count": 4,
     "metadata": {},
     "output_type": "execute_result"
    }
   ],
   "source": [
    "df = pd.read_csv('rice.csv')\n",
    "df"
   ]
  },
  {
   "cell_type": "markdown",
   "metadata": {},
   "source": [
    "| No. | Nama Kolom | Deskripsi |\n",
    "|-----|----------- | --------- |\n",
    "|1|Area | Mengembalikan jumlah piksel di dalam batas-batas butiran beras. |\n",
    "|2|Perimeter | Menghitung keliling dengan menghitung jarak antara piksel di sekitar batas bulir beras. |\n",
    "|3|Major_Axis_Length| Garis terpanjang yang dapat digambar pada butiran beras, yaitu jarak sumbu utama. |\n",
    "|4|Minor_Axis_Length| aris terpendek yang dapat ditarik pada butiran beras, yaitu jarak sumbu kecil. |\n",
    "|5|Eccentricity| Ini mengukur seberapa bulat elips, yang memiliki momen yang sama dengan butiran beras.  |\n",
    "|6|Convex_Area| Mengembalikan jumlah piksel cangkang cembung terkecil pada wilayah yang dibentuk oleh butir beras. |\n",
    "|7|Extent| Mengembalikan rasio wilayah yang dibentuk oleh butiran beras ke kotak pembatas.|\n",
    "|8|Class | Cammeo and Osmancik. |"
   ]
  },
  {
   "cell_type": "markdown",
   "metadata": {},
   "source": [
    "| No. | Column Name | Description |\n",
    "|-----|----------- | --------- |\n",
    "|1|Area | Returns the number of pixels within the boundaries of the rice grain. |\n",
    "|2|Perimeter | Calculates the circumference by calculating the distance between pixels around the boundaries of the rice grain. |\n",
    "|3|Major_Axis_Length| The longest line that can be drawn on a grain of rice, i.e. the principal axis distance. |\n",
    "|4|Minor_Axis_Length| The shortest line that can be drawn on a grain of rice, i.e. the small axis distance. |\n",
    "|5|Eccentricity| It measures how round an ellipse, which has the same moments as a grain of rice.  |\n",
    "|6|Convex_Area| Returns the number of pixels of the smallest convex shell in the region formed by the rice grains. |\n",
    "|7|Extent| Returns the ratio of the region formed by the rice grains to the bounding box.|\n",
    "|8|Class | Cammeo and Osmancik. |"
   ]
  },
  {
   "cell_type": "code",
   "execution_count": 6,
   "metadata": {},
   "outputs": [
    {
     "data": {
      "text/html": [
       "<div>\n",
       "<style scoped>\n",
       "    .dataframe tbody tr th:only-of-type {\n",
       "        vertical-align: middle;\n",
       "    }\n",
       "\n",
       "    .dataframe tbody tr th {\n",
       "        vertical-align: top;\n",
       "    }\n",
       "\n",
       "    .dataframe thead th {\n",
       "        text-align: right;\n",
       "    }\n",
       "</style>\n",
       "<table border=\"1\" class=\"dataframe\">\n",
       "  <thead>\n",
       "    <tr style=\"text-align: right;\">\n",
       "      <th></th>\n",
       "      <th>Area</th>\n",
       "      <th>Perimeter</th>\n",
       "      <th>Major_Axis_Length</th>\n",
       "      <th>Minor_Axis_Length</th>\n",
       "      <th>Eccentricity</th>\n",
       "      <th>Convex_Area</th>\n",
       "      <th>Extent</th>\n",
       "      <th>Class</th>\n",
       "    </tr>\n",
       "  </thead>\n",
       "  <tbody>\n",
       "    <tr>\n",
       "      <th>0</th>\n",
       "      <td>15231.0</td>\n",
       "      <td>525.578979</td>\n",
       "      <td>229.749878</td>\n",
       "      <td>85.093788</td>\n",
       "      <td>0.928882</td>\n",
       "      <td>15617.0</td>\n",
       "      <td>0.572896</td>\n",
       "      <td>b'Cammeo'</td>\n",
       "    </tr>\n",
       "    <tr>\n",
       "      <th>1</th>\n",
       "      <td>14656.0</td>\n",
       "      <td>494.311005</td>\n",
       "      <td>206.020065</td>\n",
       "      <td>91.730972</td>\n",
       "      <td>0.895405</td>\n",
       "      <td>15072.0</td>\n",
       "      <td>0.615436</td>\n",
       "      <td>b'Cammeo'</td>\n",
       "    </tr>\n",
       "    <tr>\n",
       "      <th>2</th>\n",
       "      <td>14634.0</td>\n",
       "      <td>501.122009</td>\n",
       "      <td>214.106781</td>\n",
       "      <td>87.768288</td>\n",
       "      <td>0.912118</td>\n",
       "      <td>14954.0</td>\n",
       "      <td>0.693259</td>\n",
       "      <td>b'Cammeo'</td>\n",
       "    </tr>\n",
       "    <tr>\n",
       "      <th>3</th>\n",
       "      <td>13176.0</td>\n",
       "      <td>458.342987</td>\n",
       "      <td>193.337387</td>\n",
       "      <td>87.448395</td>\n",
       "      <td>0.891861</td>\n",
       "      <td>13368.0</td>\n",
       "      <td>0.640669</td>\n",
       "      <td>b'Cammeo'</td>\n",
       "    </tr>\n",
       "    <tr>\n",
       "      <th>4</th>\n",
       "      <td>14688.0</td>\n",
       "      <td>507.166992</td>\n",
       "      <td>211.743378</td>\n",
       "      <td>89.312454</td>\n",
       "      <td>0.906691</td>\n",
       "      <td>15262.0</td>\n",
       "      <td>0.646024</td>\n",
       "      <td>b'Cammeo'</td>\n",
       "    </tr>\n",
       "    <tr>\n",
       "      <th>5</th>\n",
       "      <td>13479.0</td>\n",
       "      <td>477.015991</td>\n",
       "      <td>200.053055</td>\n",
       "      <td>86.650291</td>\n",
       "      <td>0.901328</td>\n",
       "      <td>13786.0</td>\n",
       "      <td>0.657897</td>\n",
       "      <td>b'Cammeo'</td>\n",
       "    </tr>\n",
       "    <tr>\n",
       "      <th>6</th>\n",
       "      <td>15757.0</td>\n",
       "      <td>509.281006</td>\n",
       "      <td>207.296677</td>\n",
       "      <td>98.336136</td>\n",
       "      <td>0.880323</td>\n",
       "      <td>16150.0</td>\n",
       "      <td>0.589708</td>\n",
       "      <td>b'Cammeo'</td>\n",
       "    </tr>\n",
       "    <tr>\n",
       "      <th>7</th>\n",
       "      <td>16405.0</td>\n",
       "      <td>526.570007</td>\n",
       "      <td>221.612518</td>\n",
       "      <td>95.436707</td>\n",
       "      <td>0.902521</td>\n",
       "      <td>16837.0</td>\n",
       "      <td>0.658888</td>\n",
       "      <td>b'Cammeo'</td>\n",
       "    </tr>\n",
       "    <tr>\n",
       "      <th>8</th>\n",
       "      <td>14534.0</td>\n",
       "      <td>483.640991</td>\n",
       "      <td>196.650818</td>\n",
       "      <td>95.050682</td>\n",
       "      <td>0.875429</td>\n",
       "      <td>14932.0</td>\n",
       "      <td>0.649651</td>\n",
       "      <td>b'Cammeo'</td>\n",
       "    </tr>\n",
       "    <tr>\n",
       "      <th>9</th>\n",
       "      <td>13485.0</td>\n",
       "      <td>471.570007</td>\n",
       "      <td>198.272644</td>\n",
       "      <td>87.727287</td>\n",
       "      <td>0.896789</td>\n",
       "      <td>13734.0</td>\n",
       "      <td>0.572320</td>\n",
       "      <td>b'Cammeo'</td>\n",
       "    </tr>\n",
       "  </tbody>\n",
       "</table>\n",
       "</div>"
      ],
      "text/plain": [
       "      Area   Perimeter  Major_Axis_Length  Minor_Axis_Length  Eccentricity  \\\n",
       "0  15231.0  525.578979         229.749878          85.093788      0.928882   \n",
       "1  14656.0  494.311005         206.020065          91.730972      0.895405   \n",
       "2  14634.0  501.122009         214.106781          87.768288      0.912118   \n",
       "3  13176.0  458.342987         193.337387          87.448395      0.891861   \n",
       "4  14688.0  507.166992         211.743378          89.312454      0.906691   \n",
       "5  13479.0  477.015991         200.053055          86.650291      0.901328   \n",
       "6  15757.0  509.281006         207.296677          98.336136      0.880323   \n",
       "7  16405.0  526.570007         221.612518          95.436707      0.902521   \n",
       "8  14534.0  483.640991         196.650818          95.050682      0.875429   \n",
       "9  13485.0  471.570007         198.272644          87.727287      0.896789   \n",
       "\n",
       "   Convex_Area    Extent      Class  \n",
       "0      15617.0  0.572896  b'Cammeo'  \n",
       "1      15072.0  0.615436  b'Cammeo'  \n",
       "2      14954.0  0.693259  b'Cammeo'  \n",
       "3      13368.0  0.640669  b'Cammeo'  \n",
       "4      15262.0  0.646024  b'Cammeo'  \n",
       "5      13786.0  0.657897  b'Cammeo'  \n",
       "6      16150.0  0.589708  b'Cammeo'  \n",
       "7      16837.0  0.658888  b'Cammeo'  \n",
       "8      14932.0  0.649651  b'Cammeo'  \n",
       "9      13734.0  0.572320  b'Cammeo'  "
      ]
     },
     "execution_count": 6,
     "metadata": {},
     "output_type": "execute_result"
    }
   ],
   "source": [
    "# Menampilkan 10 baris pertama dari sebuah DataFrame\n",
    "df.head(10)"
   ]
  },
  {
   "cell_type": "code",
   "execution_count": 7,
   "metadata": {},
   "outputs": [
    {
     "data": {
      "text/html": [
       "<div>\n",
       "<style scoped>\n",
       "    .dataframe tbody tr th:only-of-type {\n",
       "        vertical-align: middle;\n",
       "    }\n",
       "\n",
       "    .dataframe tbody tr th {\n",
       "        vertical-align: top;\n",
       "    }\n",
       "\n",
       "    .dataframe thead th {\n",
       "        text-align: right;\n",
       "    }\n",
       "</style>\n",
       "<table border=\"1\" class=\"dataframe\">\n",
       "  <thead>\n",
       "    <tr style=\"text-align: right;\">\n",
       "      <th></th>\n",
       "      <th>Area</th>\n",
       "      <th>Perimeter</th>\n",
       "      <th>Major_Axis_Length</th>\n",
       "      <th>Minor_Axis_Length</th>\n",
       "      <th>Eccentricity</th>\n",
       "      <th>Convex_Area</th>\n",
       "      <th>Extent</th>\n",
       "      <th>Class</th>\n",
       "    </tr>\n",
       "  </thead>\n",
       "  <tbody>\n",
       "    <tr>\n",
       "      <th>3800</th>\n",
       "      <td>11611.0</td>\n",
       "      <td>431.273010</td>\n",
       "      <td>178.513947</td>\n",
       "      <td>84.112518</td>\n",
       "      <td>0.882036</td>\n",
       "      <td>11775.0</td>\n",
       "      <td>0.691913</td>\n",
       "      <td>b'Osmancik'</td>\n",
       "    </tr>\n",
       "    <tr>\n",
       "      <th>3801</th>\n",
       "      <td>10604.0</td>\n",
       "      <td>409.510986</td>\n",
       "      <td>172.302704</td>\n",
       "      <td>78.918831</td>\n",
       "      <td>0.888940</td>\n",
       "      <td>10755.0</td>\n",
       "      <td>0.586180</td>\n",
       "      <td>b'Osmancik'</td>\n",
       "    </tr>\n",
       "    <tr>\n",
       "      <th>3802</th>\n",
       "      <td>12349.0</td>\n",
       "      <td>434.138000</td>\n",
       "      <td>180.241928</td>\n",
       "      <td>88.264580</td>\n",
       "      <td>0.871891</td>\n",
       "      <td>12526.0</td>\n",
       "      <td>0.627490</td>\n",
       "      <td>b'Osmancik'</td>\n",
       "    </tr>\n",
       "    <tr>\n",
       "      <th>3803</th>\n",
       "      <td>11538.0</td>\n",
       "      <td>418.661011</td>\n",
       "      <td>170.850906</td>\n",
       "      <td>86.498398</td>\n",
       "      <td>0.862369</td>\n",
       "      <td>11741.0</td>\n",
       "      <td>0.713544</td>\n",
       "      <td>b'Osmancik'</td>\n",
       "    </tr>\n",
       "    <tr>\n",
       "      <th>3804</th>\n",
       "      <td>12501.0</td>\n",
       "      <td>451.799011</td>\n",
       "      <td>192.738800</td>\n",
       "      <td>83.195061</td>\n",
       "      <td>0.902043</td>\n",
       "      <td>12687.0</td>\n",
       "      <td>0.718820</td>\n",
       "      <td>b'Osmancik'</td>\n",
       "    </tr>\n",
       "    <tr>\n",
       "      <th>3805</th>\n",
       "      <td>11441.0</td>\n",
       "      <td>415.858002</td>\n",
       "      <td>170.486771</td>\n",
       "      <td>85.756592</td>\n",
       "      <td>0.864280</td>\n",
       "      <td>11628.0</td>\n",
       "      <td>0.681012</td>\n",
       "      <td>b'Osmancik'</td>\n",
       "    </tr>\n",
       "    <tr>\n",
       "      <th>3806</th>\n",
       "      <td>11625.0</td>\n",
       "      <td>421.390015</td>\n",
       "      <td>167.714798</td>\n",
       "      <td>89.462570</td>\n",
       "      <td>0.845850</td>\n",
       "      <td>11904.0</td>\n",
       "      <td>0.694279</td>\n",
       "      <td>b'Osmancik'</td>\n",
       "    </tr>\n",
       "    <tr>\n",
       "      <th>3807</th>\n",
       "      <td>12437.0</td>\n",
       "      <td>442.498993</td>\n",
       "      <td>183.572922</td>\n",
       "      <td>86.801979</td>\n",
       "      <td>0.881144</td>\n",
       "      <td>12645.0</td>\n",
       "      <td>0.626739</td>\n",
       "      <td>b'Osmancik'</td>\n",
       "    </tr>\n",
       "    <tr>\n",
       "      <th>3808</th>\n",
       "      <td>9882.0</td>\n",
       "      <td>392.296997</td>\n",
       "      <td>161.193985</td>\n",
       "      <td>78.210480</td>\n",
       "      <td>0.874406</td>\n",
       "      <td>10097.0</td>\n",
       "      <td>0.659064</td>\n",
       "      <td>b'Osmancik'</td>\n",
       "    </tr>\n",
       "    <tr>\n",
       "      <th>3809</th>\n",
       "      <td>11434.0</td>\n",
       "      <td>404.709991</td>\n",
       "      <td>161.079269</td>\n",
       "      <td>90.868195</td>\n",
       "      <td>0.825692</td>\n",
       "      <td>11591.0</td>\n",
       "      <td>0.802949</td>\n",
       "      <td>b'Osmancik'</td>\n",
       "    </tr>\n",
       "  </tbody>\n",
       "</table>\n",
       "</div>"
      ],
      "text/plain": [
       "         Area   Perimeter  Major_Axis_Length  Minor_Axis_Length  Eccentricity  \\\n",
       "3800  11611.0  431.273010         178.513947          84.112518      0.882036   \n",
       "3801  10604.0  409.510986         172.302704          78.918831      0.888940   \n",
       "3802  12349.0  434.138000         180.241928          88.264580      0.871891   \n",
       "3803  11538.0  418.661011         170.850906          86.498398      0.862369   \n",
       "3804  12501.0  451.799011         192.738800          83.195061      0.902043   \n",
       "3805  11441.0  415.858002         170.486771          85.756592      0.864280   \n",
       "3806  11625.0  421.390015         167.714798          89.462570      0.845850   \n",
       "3807  12437.0  442.498993         183.572922          86.801979      0.881144   \n",
       "3808   9882.0  392.296997         161.193985          78.210480      0.874406   \n",
       "3809  11434.0  404.709991         161.079269          90.868195      0.825692   \n",
       "\n",
       "      Convex_Area    Extent        Class  \n",
       "3800      11775.0  0.691913  b'Osmancik'  \n",
       "3801      10755.0  0.586180  b'Osmancik'  \n",
       "3802      12526.0  0.627490  b'Osmancik'  \n",
       "3803      11741.0  0.713544  b'Osmancik'  \n",
       "3804      12687.0  0.718820  b'Osmancik'  \n",
       "3805      11628.0  0.681012  b'Osmancik'  \n",
       "3806      11904.0  0.694279  b'Osmancik'  \n",
       "3807      12645.0  0.626739  b'Osmancik'  \n",
       "3808      10097.0  0.659064  b'Osmancik'  \n",
       "3809      11591.0  0.802949  b'Osmancik'  "
      ]
     },
     "execution_count": 7,
     "metadata": {},
     "output_type": "execute_result"
    }
   ],
   "source": [
    "# Menampilkan 10 baris terakhir dari sebuah DataFrame \n",
    "df.tail(10)"
   ]
  },
  {
   "cell_type": "code",
   "execution_count": 8,
   "metadata": {},
   "outputs": [
    {
     "name": "stdout",
     "output_type": "stream",
     "text": [
      "<class 'pandas.core.frame.DataFrame'>\n",
      "RangeIndex: 3810 entries, 0 to 3809\n",
      "Data columns (total 8 columns):\n",
      " #   Column             Non-Null Count  Dtype  \n",
      "---  ------             --------------  -----  \n",
      " 0   Area               3810 non-null   float64\n",
      " 1   Perimeter          3810 non-null   float64\n",
      " 2   Major_Axis_Length  3810 non-null   float64\n",
      " 3   Minor_Axis_Length  3810 non-null   float64\n",
      " 4   Eccentricity       3810 non-null   float64\n",
      " 5   Convex_Area        3810 non-null   float64\n",
      " 6   Extent             3810 non-null   float64\n",
      " 7   Class              3810 non-null   object \n",
      "dtypes: float64(7), object(1)\n",
      "memory usage: 238.3+ KB\n"
     ]
    }
   ],
   "source": [
    "# Mengakses informasi tentang DataFrame\n",
    "df.info()"
   ]
  },
  {
   "cell_type": "code",
   "execution_count": 9,
   "metadata": {},
   "outputs": [
    {
     "data": {
      "text/plain": [
       "0"
      ]
     },
     "execution_count": 9,
     "metadata": {},
     "output_type": "execute_result"
    }
   ],
   "source": [
    "# Mengecek data duplicate \n",
    "df.duplicated().sum()"
   ]
  },
  {
   "cell_type": "markdown",
   "metadata": {},
   "source": [
    "- tidak terdapat duplicate data dalam dataset ini."
   ]
  },
  {
   "cell_type": "code",
   "execution_count": 10,
   "metadata": {},
   "outputs": [
    {
     "data": {
      "text/plain": [
       "Index(['Area', 'Perimeter', 'Major_Axis_Length', 'Minor_Axis_Length',\n",
       "       'Eccentricity', 'Convex_Area', 'Extent', 'Class'],\n",
       "      dtype='object')"
      ]
     },
     "execution_count": 10,
     "metadata": {},
     "output_type": "execute_result"
    }
   ],
   "source": [
    "# Mengecek nama-nama kolom dalam DataFrame\n",
    "df.columns"
   ]
  },
  {
   "cell_type": "code",
   "execution_count": 11,
   "metadata": {},
   "outputs": [
    {
     "data": {
      "text/html": [
       "<div>\n",
       "<style scoped>\n",
       "    .dataframe tbody tr th:only-of-type {\n",
       "        vertical-align: middle;\n",
       "    }\n",
       "\n",
       "    .dataframe tbody tr th {\n",
       "        vertical-align: top;\n",
       "    }\n",
       "\n",
       "    .dataframe thead th {\n",
       "        text-align: right;\n",
       "    }\n",
       "</style>\n",
       "<table border=\"1\" class=\"dataframe\">\n",
       "  <thead>\n",
       "    <tr style=\"text-align: right;\">\n",
       "      <th></th>\n",
       "      <th>count</th>\n",
       "      <th>mean</th>\n",
       "      <th>std</th>\n",
       "      <th>min</th>\n",
       "      <th>25%</th>\n",
       "      <th>50%</th>\n",
       "      <th>75%</th>\n",
       "      <th>max</th>\n",
       "    </tr>\n",
       "  </thead>\n",
       "  <tbody>\n",
       "    <tr>\n",
       "      <th>Area</th>\n",
       "      <td>3810.0</td>\n",
       "      <td>12667.727559</td>\n",
       "      <td>1732.367706</td>\n",
       "      <td>7551.000000</td>\n",
       "      <td>11370.500000</td>\n",
       "      <td>12421.500000</td>\n",
       "      <td>13950.000000</td>\n",
       "      <td>18913.000000</td>\n",
       "    </tr>\n",
       "    <tr>\n",
       "      <th>Perimeter</th>\n",
       "      <td>3810.0</td>\n",
       "      <td>454.239180</td>\n",
       "      <td>35.597081</td>\n",
       "      <td>359.100006</td>\n",
       "      <td>426.144753</td>\n",
       "      <td>448.852493</td>\n",
       "      <td>483.683746</td>\n",
       "      <td>548.445984</td>\n",
       "    </tr>\n",
       "    <tr>\n",
       "      <th>Major_Axis_Length</th>\n",
       "      <td>3810.0</td>\n",
       "      <td>188.776222</td>\n",
       "      <td>17.448679</td>\n",
       "      <td>145.264465</td>\n",
       "      <td>174.353855</td>\n",
       "      <td>185.810059</td>\n",
       "      <td>203.550438</td>\n",
       "      <td>239.010498</td>\n",
       "    </tr>\n",
       "    <tr>\n",
       "      <th>Minor_Axis_Length</th>\n",
       "      <td>3810.0</td>\n",
       "      <td>86.313750</td>\n",
       "      <td>5.729817</td>\n",
       "      <td>59.532406</td>\n",
       "      <td>82.731695</td>\n",
       "      <td>86.434647</td>\n",
       "      <td>90.143677</td>\n",
       "      <td>107.542450</td>\n",
       "    </tr>\n",
       "    <tr>\n",
       "      <th>Eccentricity</th>\n",
       "      <td>3810.0</td>\n",
       "      <td>0.886871</td>\n",
       "      <td>0.020818</td>\n",
       "      <td>0.777233</td>\n",
       "      <td>0.872402</td>\n",
       "      <td>0.889050</td>\n",
       "      <td>0.902588</td>\n",
       "      <td>0.948007</td>\n",
       "    </tr>\n",
       "    <tr>\n",
       "      <th>Convex_Area</th>\n",
       "      <td>3810.0</td>\n",
       "      <td>12952.496850</td>\n",
       "      <td>1776.972042</td>\n",
       "      <td>7723.000000</td>\n",
       "      <td>11626.250000</td>\n",
       "      <td>12706.500000</td>\n",
       "      <td>14284.000000</td>\n",
       "      <td>19099.000000</td>\n",
       "    </tr>\n",
       "    <tr>\n",
       "      <th>Extent</th>\n",
       "      <td>3810.0</td>\n",
       "      <td>0.661934</td>\n",
       "      <td>0.077239</td>\n",
       "      <td>0.497413</td>\n",
       "      <td>0.598862</td>\n",
       "      <td>0.645361</td>\n",
       "      <td>0.726562</td>\n",
       "      <td>0.861050</td>\n",
       "    </tr>\n",
       "  </tbody>\n",
       "</table>\n",
       "</div>"
      ],
      "text/plain": [
       "                    count          mean          std          min  \\\n",
       "Area               3810.0  12667.727559  1732.367706  7551.000000   \n",
       "Perimeter          3810.0    454.239180    35.597081   359.100006   \n",
       "Major_Axis_Length  3810.0    188.776222    17.448679   145.264465   \n",
       "Minor_Axis_Length  3810.0     86.313750     5.729817    59.532406   \n",
       "Eccentricity       3810.0      0.886871     0.020818     0.777233   \n",
       "Convex_Area        3810.0  12952.496850  1776.972042  7723.000000   \n",
       "Extent             3810.0      0.661934     0.077239     0.497413   \n",
       "\n",
       "                            25%           50%           75%           max  \n",
       "Area               11370.500000  12421.500000  13950.000000  18913.000000  \n",
       "Perimeter            426.144753    448.852493    483.683746    548.445984  \n",
       "Major_Axis_Length    174.353855    185.810059    203.550438    239.010498  \n",
       "Minor_Axis_Length     82.731695     86.434647     90.143677    107.542450  \n",
       "Eccentricity           0.872402      0.889050      0.902588      0.948007  \n",
       "Convex_Area        11626.250000  12706.500000  14284.000000  19099.000000  \n",
       "Extent                 0.598862      0.645361      0.726562      0.861050  "
      ]
     },
     "execution_count": 11,
     "metadata": {},
     "output_type": "execute_result"
    }
   ],
   "source": [
    "#  Menghasilkan statistik deskriptif dari DataFrame\n",
    "df.describe().T"
   ]
  },
  {
   "cell_type": "markdown",
   "metadata": {},
   "source": [
    "- menghitung nilai dari setiap kolom baik nilai rata-rata, std, minimal, 25,50, 75% serta nilai maksimal."
   ]
  },
  {
   "cell_type": "code",
   "execution_count": 12,
   "metadata": {},
   "outputs": [
    {
     "name": "stdout",
     "output_type": "stream",
     "text": [
      "Berhasil Duplicate Data\n"
     ]
    }
   ],
   "source": [
    "# Duplicate Data\n",
    "dataduplicate = df.copy()\n",
    "\n",
    "print(\"Berhasil Duplicate Data\")"
   ]
  },
  {
   "cell_type": "markdown",
   "metadata": {},
   "source": [
    "# 4. Exploratory Data Analysis ( EDA )"
   ]
  },
  {
   "cell_type": "markdown",
   "metadata": {},
   "source": [
    "1. Penyebaran jenis beras spesies Osmancik dan spesies Cammeo."
   ]
  },
  {
   "cell_type": "code",
   "execution_count": 8,
   "metadata": {},
   "outputs": [
    {
     "data": {
      "image/png": "[encoded data removed]",
      "text/plain": [
       "<Figure size 800x600 with 1 Axes>"
      ]
     },
     "metadata": {},
     "output_type": "display_data"
    }
   ],
   "source": [
    "# Visualisasi penyebaran data pada kolom 'Class' dengan diagram batang\n",
    "sns.set(style=\"whitegrid\")\n",
    "plt.figure(figsize=(8, 6))\n",
    "\n",
    "sns.countplot(x='Class', data=df)\n",
    "plt.title('Data Distribution on Class Columns')\n",
    "plt.xlabel('Class')\n",
    "plt.ylabel('Amount of data')\n",
    "\n",
    "plt.show()\n"
   ]
  },
  {
   "cell_type": "markdown",
   "metadata": {},
   "source": [
    "- lebih banyak jumlah data pada b'Osmancik' daripada b'Cammeo'.\n",
    "- perbedaan dari kedua jenis spesies ini tidak jauh beda."
   ]
  },
  {
   "cell_type": "markdown",
   "metadata": {},
   "source": [
    "2. Distribusi spesies beras dengan jumlah piksel di dalam batas-batas butiran beras."
   ]
  },
  {
   "cell_type": "code",
   "execution_count": 14,
   "metadata": {},
   "outputs": [
    {
     "data": {
      "image/png": "[encoded data removed]",
      "text/plain": [
       "<Figure size 1000x600 with 1 Axes>"
      ]
     },
     "metadata": {},
     "output_type": "display_data"
    }
   ],
   "source": [
    "# Membuat boxplot untuk kolom 'Area' dengan kolom 'Class'\n",
    "plt.figure(figsize=(10, 6))\n",
    "sns.boxplot(x='Class', y='Area', data=df)\n",
    "plt.title('Distribusi Area berdasarkan Kelas')\n",
    "plt.xlabel('Kelas')\n",
    "plt.ylabel('Area')\n",
    "plt.show()\n"
   ]
  },
  {
   "cell_type": "code",
   "execution_count": 15,
   "metadata": {},
   "outputs": [
    {
     "name": "stdout",
     "output_type": "stream",
     "text": [
      "                 50%       25%      75%      IQR\n",
      "Class                                           \n",
      "b'Cammeo'    14212.0  13289.25  14997.0  1707.75\n",
      "b'Osmancik'  11552.5  10850.50  12269.0  1418.50\n"
     ]
    }
   ],
   "source": [
    "# Mengelompokkan data berdasarkan kolom 'Class'\n",
    "grouped_data = df.groupby('Class')\n",
    "\n",
    "# Menghitung mediana, Q1, Q3, dan IQR untuk setiap kelas\n",
    "class_stats = grouped_data['Area'].describe()[['50%', '25%', '75%']]\n",
    "class_stats['IQR'] = class_stats['75%'] - class_stats['25%']\n",
    "\n",
    "# Menampilkan hasil perhitungan\n",
    "print(class_stats)\n"
   ]
  },
  {
   "cell_type": "markdown",
   "metadata": {},
   "source": [
    "- terdapat distribusi jumlah piksel baik itu garis tengah, garis bawah, garis atas pada spesies commeo lebih besar daripada osmancik."
   ]
  },
  {
   "cell_type": "markdown",
   "metadata": {},
   "source": [
    "3. Persebaran batas butiran beras dengan jarak kelilingnya."
   ]
  },
  {
   "cell_type": "code",
   "execution_count": 9,
   "metadata": {},
   "outputs": [
    {
     "data": {
      "image/png": "[encoded data removed]",
      "text/plain": [
       "<Figure size 800x600 with 1 Axes>"
      ]
     },
     "metadata": {},
     "output_type": "display_data"
    }
   ],
   "source": [
    "# Membuat scatter plot Area vs Perimeter\n",
    "plt.figure(figsize=(8, 6))\n",
    "plt.scatter(df['Area'], df['Perimeter'], alpha=0.5)\n",
    "plt.title('Area vs Perimeter Relationship')\n",
    "plt.xlabel('Area')\n",
    "plt.ylabel('Perimeter')\n",
    "plt.grid(True)\n",
    "plt.show()"
   ]
  },
  {
   "cell_type": "markdown",
   "metadata": {},
   "source": [
    "- pola yang cenderung diagonal menunjukkan korelasi positif antara kedua variabel tersebut.\n",
    "- artinya jumlah piksel pada beras semakin besar sesuai dengan jarak keliling nya."
   ]
  },
  {
   "cell_type": "markdown",
   "metadata": {},
   "source": [
    "4. Mengukur seberapa bulat elips yang memiliki momen yang sama dengan butir beras. "
   ]
  },
  {
   "cell_type": "code",
   "execution_count": 10,
   "metadata": {},
   "outputs": [
    {
     "data": {
      "image/png": "[encoded data removed]",
      "text/plain": [
       "<Figure size 800x600 with 1 Axes>"
      ]
     },
     "metadata": {},
     "output_type": "display_data"
    }
   ],
   "source": [
    "plt.figure(figsize=(8, 6))\n",
    "sns.histplot(df['Eccentricity'], bins=30, kde=True)\n",
    "plt.title('Eccentricity Distribution')\n",
    "plt.xlabel('Eccentricity')\n",
    "plt.ylabel('Total')\n",
    "plt.show()\n"
   ]
  },
  {
   "cell_type": "markdown",
   "metadata": {},
   "source": [
    "5. Garis terpanjang yang dapat digambar pada spesies beras."
   ]
  },
  {
   "cell_type": "code",
   "execution_count": 18,
   "metadata": {},
   "outputs": [
    {
     "data": {
      "image/png": "[encoded data removed]",
      "text/plain": [
       "<Figure size 800x600 with 1 Axes>"
      ]
     },
     "metadata": {},
     "output_type": "display_data"
    }
   ],
   "source": [
    "plt.figure(figsize=(8, 6))\n",
    "sns.violinplot(x='Class', y='Major_Axis_Length', data=df)\n",
    "plt.title('Distribusi Major_Axis_Length berdasarkan Kelas')\n",
    "plt.xlabel('Kelas')\n",
    "plt.ylabel('Major_Axis_Length')\n",
    "plt.grid(True)\n",
    "plt.show()\n"
   ]
  },
  {
   "cell_type": "markdown",
   "metadata": {},
   "source": [
    "# 5. Feature Engineering"
   ]
  },
  {
   "cell_type": "markdown",
   "metadata": {},
   "source": [
    "Handling Missing Value"
   ]
  },
  {
   "cell_type": "code",
   "execution_count": 19,
   "metadata": {},
   "outputs": [
    {
     "data": {
      "text/plain": [
       "Area                 0\n",
       "Perimeter            0\n",
       "Major_Axis_Length    0\n",
       "Minor_Axis_Length    0\n",
       "Eccentricity         0\n",
       "Convex_Area          0\n",
       "Extent               0\n",
       "Class                0\n",
       "dtype: int64"
      ]
     },
     "execution_count": 19,
     "metadata": {},
     "output_type": "execute_result"
    }
   ],
   "source": [
    "df.isna().sum()"
   ]
  },
  {
   "cell_type": "markdown",
   "metadata": {},
   "source": [
    "- tidak terdapat missing value."
   ]
  },
  {
   "cell_type": "markdown",
   "metadata": {},
   "source": [
    "Split Between X (features) and y (target)"
   ]
  },
  {
   "cell_type": "code",
   "execution_count": 20,
   "metadata": {},
   "outputs": [
    {
     "data": {
      "text/html": [
       "<div>\n",
       "<style scoped>\n",
       "    .dataframe tbody tr th:only-of-type {\n",
       "        vertical-align: middle;\n",
       "    }\n",
       "\n",
       "    .dataframe tbody tr th {\n",
       "        vertical-align: top;\n",
       "    }\n",
       "\n",
       "    .dataframe thead th {\n",
       "        text-align: right;\n",
       "    }\n",
       "</style>\n",
       "<table border=\"1\" class=\"dataframe\">\n",
       "  <thead>\n",
       "    <tr style=\"text-align: right;\">\n",
       "      <th></th>\n",
       "      <th>Area</th>\n",
       "      <th>Perimeter</th>\n",
       "      <th>Major_Axis_Length</th>\n",
       "      <th>Minor_Axis_Length</th>\n",
       "      <th>Eccentricity</th>\n",
       "      <th>Convex_Area</th>\n",
       "      <th>Extent</th>\n",
       "    </tr>\n",
       "  </thead>\n",
       "  <tbody>\n",
       "    <tr>\n",
       "      <th>0</th>\n",
       "      <td>15231.0</td>\n",
       "      <td>525.578979</td>\n",
       "      <td>229.749878</td>\n",
       "      <td>85.093788</td>\n",
       "      <td>0.928882</td>\n",
       "      <td>15617.0</td>\n",
       "      <td>0.572896</td>\n",
       "    </tr>\n",
       "    <tr>\n",
       "      <th>1</th>\n",
       "      <td>14656.0</td>\n",
       "      <td>494.311005</td>\n",
       "      <td>206.020065</td>\n",
       "      <td>91.730972</td>\n",
       "      <td>0.895405</td>\n",
       "      <td>15072.0</td>\n",
       "      <td>0.615436</td>\n",
       "    </tr>\n",
       "    <tr>\n",
       "      <th>2</th>\n",
       "      <td>14634.0</td>\n",
       "      <td>501.122009</td>\n",
       "      <td>214.106781</td>\n",
       "      <td>87.768288</td>\n",
       "      <td>0.912118</td>\n",
       "      <td>14954.0</td>\n",
       "      <td>0.693259</td>\n",
       "    </tr>\n",
       "    <tr>\n",
       "      <th>3</th>\n",
       "      <td>13176.0</td>\n",
       "      <td>458.342987</td>\n",
       "      <td>193.337387</td>\n",
       "      <td>87.448395</td>\n",
       "      <td>0.891861</td>\n",
       "      <td>13368.0</td>\n",
       "      <td>0.640669</td>\n",
       "    </tr>\n",
       "    <tr>\n",
       "      <th>4</th>\n",
       "      <td>14688.0</td>\n",
       "      <td>507.166992</td>\n",
       "      <td>211.743378</td>\n",
       "      <td>89.312454</td>\n",
       "      <td>0.906691</td>\n",
       "      <td>15262.0</td>\n",
       "      <td>0.646024</td>\n",
       "    </tr>\n",
       "    <tr>\n",
       "      <th>5</th>\n",
       "      <td>13479.0</td>\n",
       "      <td>477.015991</td>\n",
       "      <td>200.053055</td>\n",
       "      <td>86.650291</td>\n",
       "      <td>0.901328</td>\n",
       "      <td>13786.0</td>\n",
       "      <td>0.657897</td>\n",
       "    </tr>\n",
       "    <tr>\n",
       "      <th>6</th>\n",
       "      <td>15757.0</td>\n",
       "      <td>509.281006</td>\n",
       "      <td>207.296677</td>\n",
       "      <td>98.336136</td>\n",
       "      <td>0.880323</td>\n",
       "      <td>16150.0</td>\n",
       "      <td>0.589708</td>\n",
       "    </tr>\n",
       "    <tr>\n",
       "      <th>7</th>\n",
       "      <td>16405.0</td>\n",
       "      <td>526.570007</td>\n",
       "      <td>221.612518</td>\n",
       "      <td>95.436707</td>\n",
       "      <td>0.902521</td>\n",
       "      <td>16837.0</td>\n",
       "      <td>0.658888</td>\n",
       "    </tr>\n",
       "    <tr>\n",
       "      <th>8</th>\n",
       "      <td>14534.0</td>\n",
       "      <td>483.640991</td>\n",
       "      <td>196.650818</td>\n",
       "      <td>95.050682</td>\n",
       "      <td>0.875429</td>\n",
       "      <td>14932.0</td>\n",
       "      <td>0.649651</td>\n",
       "    </tr>\n",
       "    <tr>\n",
       "      <th>9</th>\n",
       "      <td>13485.0</td>\n",
       "      <td>471.570007</td>\n",
       "      <td>198.272644</td>\n",
       "      <td>87.727287</td>\n",
       "      <td>0.896789</td>\n",
       "      <td>13734.0</td>\n",
       "      <td>0.572320</td>\n",
       "    </tr>\n",
       "  </tbody>\n",
       "</table>\n",
       "</div>"
      ],
      "text/plain": [
       "      Area   Perimeter  Major_Axis_Length  Minor_Axis_Length  Eccentricity  \\\n",
       "0  15231.0  525.578979         229.749878          85.093788      0.928882   \n",
       "1  14656.0  494.311005         206.020065          91.730972      0.895405   \n",
       "2  14634.0  501.122009         214.106781          87.768288      0.912118   \n",
       "3  13176.0  458.342987         193.337387          87.448395      0.891861   \n",
       "4  14688.0  507.166992         211.743378          89.312454      0.906691   \n",
       "5  13479.0  477.015991         200.053055          86.650291      0.901328   \n",
       "6  15757.0  509.281006         207.296677          98.336136      0.880323   \n",
       "7  16405.0  526.570007         221.612518          95.436707      0.902521   \n",
       "8  14534.0  483.640991         196.650818          95.050682      0.875429   \n",
       "9  13485.0  471.570007         198.272644          87.727287      0.896789   \n",
       "\n",
       "   Convex_Area    Extent  \n",
       "0      15617.0  0.572896  \n",
       "1      15072.0  0.615436  \n",
       "2      14954.0  0.693259  \n",
       "3      13368.0  0.640669  \n",
       "4      15262.0  0.646024  \n",
       "5      13786.0  0.657897  \n",
       "6      16150.0  0.589708  \n",
       "7      16837.0  0.658888  \n",
       "8      14932.0  0.649651  \n",
       "9      13734.0  0.572320  "
      ]
     },
     "execution_count": 20,
     "metadata": {},
     "output_type": "execute_result"
    }
   ],
   "source": [
    "# splitting between X dan y\n",
    "X = df.drop(['Class'], axis= 1)\n",
    "y = df['Class']\n",
    "X.head(10)"
   ]
  },
  {
   "cell_type": "markdown",
   "metadata": {},
   "source": [
    "Split between Train-set and Test-set"
   ]
  },
  {
   "cell_type": "code",
   "execution_count": 21,
   "metadata": {},
   "outputs": [
    {
     "name": "stdout",
     "output_type": "stream",
     "text": [
      "X-train (3048, 7)\n",
      "X-Test (762, 7)\n",
      "y-train (3048,)\n",
      "y-Test (762,)\n"
     ]
    }
   ],
   "source": [
    "X_train, X_test, y_train, y_test = train_test_split(X, y, test_size = 0.2, random_state = 46)\n",
    "#80:20\n",
    "#70:30\n",
    "print('X-train', X_train.shape)\n",
    "print('X-Test', X_test.shape)\n",
    "print('y-train', y_train.shape)\n",
    "print('y-Test', y_test.shape)"
   ]
  },
  {
   "cell_type": "markdown",
   "metadata": {},
   "source": [
    "Handling Outlier"
   ]
  },
  {
   "cell_type": "code",
   "execution_count": 22,
   "metadata": {},
   "outputs": [
    {
     "name": "stdout",
     "output_type": "stream",
     "text": [
      "Skewed columns: []\n",
      "Normal columns: ['Area', 'Perimeter', 'Major_Axis_Length', 'Minor_Axis_Length', 'Eccentricity', 'Convex_Area', 'Extent']\n"
     ]
    }
   ],
   "source": [
    "normal_cols = []  # untuk menampung kolom yang masuk dalam skewness normal\n",
    "skewed_cols = []  # untuk menampung kolom yang masuk dalam skewness skewed\n",
    "\n",
    "for column in X_train:  # untuk mencari kolom mana yang skewed atau normal\n",
    "    skewness = X_train[column].skew()\n",
    "    if skewness < -0.5 or skewness > 0.5:  # syarat\n",
    "        skewed_cols.append(column)  # masuk ke variabel penampung skewed\n",
    "    elif skewness >= -0.5 or skewness <= 0.5:  # syarat\n",
    "        normal_cols.append(column)  # masuk ke variabel penampung normal\n",
    "\n",
    "print(\"Skewed columns:\", skewed_cols)\n",
    "print(\"Normal columns:\", normal_cols)"
   ]
  },
  {
   "cell_type": "code",
   "execution_count": 23,
   "metadata": {},
   "outputs": [
    {
     "name": "stdout",
     "output_type": "stream",
     "text": [
      "Data Train\n",
      "\n",
      "Before - After Capping\n"
     ]
    },
    {
     "data": {
      "image/png": "[encoded data removed]",
      "text/plain": [
       "<Figure size 1600x400 with 2 Axes>"
      ]
     },
     "metadata": {},
     "output_type": "display_data"
    }
   ],
   "source": [
    "# Buat function membuat histogram dan boxplot, untuk lihat perubahan setelah capping \n",
    "def capping_plot(df, variable):\n",
    "    # Definisikan figure size\n",
    "    plt.figure(figsize=(16, 4))\n",
    "\n",
    "    # membuat Histogram\n",
    "    plt.subplot(1, 2, 1)\n",
    "    sns.histplot(df['Minor_Axis_Length'], bins=30)\n",
    "    plt.title('Histogram')\n",
    "\n",
    "    # membuat Boxplot\n",
    "    plt.subplot(1, 2, 2)\n",
    "    sns.boxplot(y=df['Minor_Axis_Length'])\n",
    "    plt.title('Boxplot')\n",
    "\n",
    "    plt.show()\n",
    "\n",
    "# Melihat histogram dan boxplot yang sudah di capping\n",
    "print('Data Train')\n",
    "print('\\nBefore - After Capping')\n",
    "capping_plot(X_train, 'Minor_Axis_Length')"
   ]
  },
  {
   "cell_type": "code",
   "execution_count": 24,
   "metadata": {},
   "outputs": [
    {
     "name": "stdout",
     "output_type": "stream",
     "text": [
      "Data Train\n",
      "\n",
      "Before - After Capping\n"
     ]
    },
    {
     "data": {
      "image/png": "[encoded data removed]",
      "text/plain": [
       "<Figure size 1600x400 with 2 Axes>"
      ]
     },
     "metadata": {},
     "output_type": "display_data"
    }
   ],
   "source": [
    "# Buat function membuat histogram dan boxplot, untuk lihat perubahan setelah capping \n",
    "def capping_plot(df, variable):\n",
    "    # Definisikan figure size\n",
    "    plt.figure(figsize=(16, 4))\n",
    "\n",
    "    # membuat Histogram\n",
    "    plt.subplot(1, 2, 1)\n",
    "    sns.histplot(df['Eccentricity'], bins=30)\n",
    "    plt.title('Histogram')\n",
    "\n",
    "    # membuat Boxplot\n",
    "    plt.subplot(1, 2, 2)\n",
    "    sns.boxplot(y=df['Eccentricity'])\n",
    "    plt.title('Boxplot')\n",
    "\n",
    "    plt.show()\n",
    "\n",
    "# Melihat histogram dan boxplot yang sudah di capping\n",
    "print('Data Train')\n",
    "print('\\nBefore - After Capping')\n",
    "capping_plot(X_train, 'Eccentricity')"
   ]
  },
  {
   "cell_type": "code",
   "execution_count": 25,
   "metadata": {},
   "outputs": [
    {
     "data": {
      "text/plain": [
       "{'Minor_Axis_Length': 101.23847198486328, 'Eccentricity': 0.9475358128547668}"
      ]
     },
     "execution_count": 25,
     "metadata": {},
     "output_type": "execute_result"
    }
   ],
   "source": [
    "winsoriser = Winsorizer(capping_method='iqr', # gaussian itu distribusi normal\n",
    "                             tail='both', #capping 2 sisi outlier\n",
    "                             fold=1.5, # rumus gaussian\n",
    "                             variables=['Minor_Axis_Length', 'Eccentricity'])\n",
    "\n",
    "winsoriser.fit(X_train)\n",
    "\n",
    "X_train = winsoriser.fit_transform(X_train)\n",
    "X_test = winsoriser.transform(X_test)\n",
    "winsoriser.right_tail_caps_"
   ]
  },
  {
   "cell_type": "code",
   "execution_count": 26,
   "metadata": {},
   "outputs": [
    {
     "data": {
      "text/html": [
       "<div>\n",
       "<style scoped>\n",
       "    .dataframe tbody tr th:only-of-type {\n",
       "        vertical-align: middle;\n",
       "    }\n",
       "\n",
       "    .dataframe tbody tr th {\n",
       "        vertical-align: top;\n",
       "    }\n",
       "\n",
       "    .dataframe thead th {\n",
       "        text-align: right;\n",
       "    }\n",
       "</style>\n",
       "<table border=\"1\" class=\"dataframe\">\n",
       "  <thead>\n",
       "    <tr style=\"text-align: right;\">\n",
       "      <th></th>\n",
       "      <th>Area</th>\n",
       "      <th>Perimeter</th>\n",
       "      <th>Major_Axis_Length</th>\n",
       "      <th>Minor_Axis_Length</th>\n",
       "      <th>Eccentricity</th>\n",
       "      <th>Convex_Area</th>\n",
       "      <th>Extent</th>\n",
       "    </tr>\n",
       "  </thead>\n",
       "  <tbody>\n",
       "    <tr>\n",
       "      <th>3624</th>\n",
       "      <td>10525.0</td>\n",
       "      <td>409.731995</td>\n",
       "      <td>170.315155</td>\n",
       "      <td>79.037621</td>\n",
       "      <td>0.885800</td>\n",
       "      <td>10682.0</td>\n",
       "      <td>0.606768</td>\n",
       "    </tr>\n",
       "    <tr>\n",
       "      <th>3163</th>\n",
       "      <td>11501.0</td>\n",
       "      <td>428.502991</td>\n",
       "      <td>180.488785</td>\n",
       "      <td>81.408310</td>\n",
       "      <td>0.892502</td>\n",
       "      <td>11676.0</td>\n",
       "      <td>0.676529</td>\n",
       "    </tr>\n",
       "    <tr>\n",
       "      <th>3309</th>\n",
       "      <td>11907.0</td>\n",
       "      <td>448.061005</td>\n",
       "      <td>188.302399</td>\n",
       "      <td>82.261765</td>\n",
       "      <td>0.899530</td>\n",
       "      <td>12156.0</td>\n",
       "      <td>0.761317</td>\n",
       "    </tr>\n",
       "    <tr>\n",
       "      <th>3133</th>\n",
       "      <td>11840.0</td>\n",
       "      <td>432.384003</td>\n",
       "      <td>175.836884</td>\n",
       "      <td>86.647781</td>\n",
       "      <td>0.870158</td>\n",
       "      <td>12032.0</td>\n",
       "      <td>0.625760</td>\n",
       "    </tr>\n",
       "    <tr>\n",
       "      <th>235</th>\n",
       "      <td>16226.0</td>\n",
       "      <td>517.684021</td>\n",
       "      <td>217.080566</td>\n",
       "      <td>95.938377</td>\n",
       "      <td>0.897041</td>\n",
       "      <td>16466.0</td>\n",
       "      <td>0.583145</td>\n",
       "    </tr>\n",
       "    <tr>\n",
       "      <th>...</th>\n",
       "      <td>...</td>\n",
       "      <td>...</td>\n",
       "      <td>...</td>\n",
       "      <td>...</td>\n",
       "      <td>...</td>\n",
       "      <td>...</td>\n",
       "      <td>...</td>\n",
       "    </tr>\n",
       "    <tr>\n",
       "      <th>2490</th>\n",
       "      <td>12871.0</td>\n",
       "      <td>448.582001</td>\n",
       "      <td>183.874542</td>\n",
       "      <td>90.276299</td>\n",
       "      <td>0.871178</td>\n",
       "      <td>13102.0</td>\n",
       "      <td>0.733725</td>\n",
       "    </tr>\n",
       "    <tr>\n",
       "      <th>3444</th>\n",
       "      <td>12799.0</td>\n",
       "      <td>443.416992</td>\n",
       "      <td>175.329697</td>\n",
       "      <td>94.259453</td>\n",
       "      <td>0.843192</td>\n",
       "      <td>13066.0</td>\n",
       "      <td>0.631613</td>\n",
       "    </tr>\n",
       "    <tr>\n",
       "      <th>1576</th>\n",
       "      <td>15676.0</td>\n",
       "      <td>509.223999</td>\n",
       "      <td>212.907745</td>\n",
       "      <td>94.761665</td>\n",
       "      <td>0.895489</td>\n",
       "      <td>16009.0</td>\n",
       "      <td>0.574633</td>\n",
       "    </tr>\n",
       "    <tr>\n",
       "      <th>2885</th>\n",
       "      <td>10499.0</td>\n",
       "      <td>408.729004</td>\n",
       "      <td>165.559372</td>\n",
       "      <td>82.358246</td>\n",
       "      <td>0.867490</td>\n",
       "      <td>10785.0</td>\n",
       "      <td>0.661313</td>\n",
       "    </tr>\n",
       "    <tr>\n",
       "      <th>3261</th>\n",
       "      <td>9646.0</td>\n",
       "      <td>390.955994</td>\n",
       "      <td>162.013672</td>\n",
       "      <td>76.316422</td>\n",
       "      <td>0.882107</td>\n",
       "      <td>9815.0</td>\n",
       "      <td>0.675112</td>\n",
       "    </tr>\n",
       "  </tbody>\n",
       "</table>\n",
       "<p>3048 rows × 7 columns</p>\n",
       "</div>"
      ],
      "text/plain": [
       "         Area   Perimeter  Major_Axis_Length  Minor_Axis_Length  Eccentricity  \\\n",
       "3624  10525.0  409.731995         170.315155          79.037621      0.885800   \n",
       "3163  11501.0  428.502991         180.488785          81.408310      0.892502   \n",
       "3309  11907.0  448.061005         188.302399          82.261765      0.899530   \n",
       "3133  11840.0  432.384003         175.836884          86.647781      0.870158   \n",
       "235   16226.0  517.684021         217.080566          95.938377      0.897041   \n",
       "...       ...         ...                ...                ...           ...   \n",
       "2490  12871.0  448.582001         183.874542          90.276299      0.871178   \n",
       "3444  12799.0  443.416992         175.329697          94.259453      0.843192   \n",
       "1576  15676.0  509.223999         212.907745          94.761665      0.895489   \n",
       "2885  10499.0  408.729004         165.559372          82.358246      0.867490   \n",
       "3261   9646.0  390.955994         162.013672          76.316422      0.882107   \n",
       "\n",
       "      Convex_Area    Extent  \n",
       "3624      10682.0  0.606768  \n",
       "3163      11676.0  0.676529  \n",
       "3309      12156.0  0.761317  \n",
       "3133      12032.0  0.625760  \n",
       "235       16466.0  0.583145  \n",
       "...           ...       ...  \n",
       "2490      13102.0  0.733725  \n",
       "3444      13066.0  0.631613  \n",
       "1576      16009.0  0.574633  \n",
       "2885      10785.0  0.661313  \n",
       "3261       9815.0  0.675112  \n",
       "\n",
       "[3048 rows x 7 columns]"
      ]
     },
     "execution_count": 26,
     "metadata": {},
     "output_type": "execute_result"
    }
   ],
   "source": [
    "X_train"
   ]
  },
  {
   "cell_type": "code",
   "execution_count": 27,
   "metadata": {},
   "outputs": [
    {
     "name": "stdout",
     "output_type": "stream",
     "text": [
      "Jumlah outlier dalam kolom Area: 2 outlier\n",
      "Jumlah outlier dalam kolom Perimeter: 0 outlier\n",
      "Jumlah outlier dalam kolom Major_Axis_Length: 0 outlier\n",
      "Jumlah outlier dalam kolom Minor_Axis_Length: 0 outlier\n",
      "Jumlah outlier dalam kolom Eccentricity: 0 outlier\n",
      "Jumlah outlier dalam kolom Convex_Area: 2 outlier\n",
      "Jumlah outlier dalam kolom Extent: 0 outlier\n"
     ]
    }
   ],
   "source": [
    "# melihat jumlah outlier pada setiap kolom\n",
    "threshold = 3\n",
    "outlier_counts = {}\n",
    "\n",
    "for col in X_train.columns:\n",
    "    data_skew = X_train[col]\n",
    "    mean = np.mean(data_skew)\n",
    "    std_dev = np.std(data_skew)\n",
    "\n",
    "    upper_bound = mean + threshold * std_dev\n",
    "    lower_bound = mean - threshold * std_dev\n",
    "\n",
    "    outliers = np.where((data_skew > upper_bound) | (data_skew < lower_bound))\n",
    "\n",
    "    outlier_counts[col] = len(outliers[0])\n",
    "\n",
    "for col, count in outlier_counts.items():\n",
    "    print(f\"Jumlah outlier dalam kolom {col}: {count} outlier\")"
   ]
  },
  {
   "cell_type": "code",
   "execution_count": 28,
   "metadata": {},
   "outputs": [
    {
     "name": "stdout",
     "output_type": "stream",
     "text": [
      "Percentage of outliers in column Area: 0.07%\n",
      "Percentage of outliers in column Perimeter: 0.00%\n",
      "Percentage of outliers in column Major_Axis_Length: 0.00%\n",
      "Percentage of outliers in column Minor_Axis_Length: 0.00%\n",
      "Percentage of outliers in column Eccentricity: 0.00%\n",
      "Percentage of outliers in column Convex_Area: 0.07%\n",
      "Percentage of outliers in column Extent: 0.00%\n"
     ]
    }
   ],
   "source": [
    "# Melihat presentase outlier pada column X_train_num\n",
    "# Menetapkan batas untuk mengidentifikasi Outlier\n",
    "threshold = 3\n",
    "\n",
    "# Menginisialkan untuk menyimpan percentages outlier untuk setiap column numerik\n",
    "outlier_percentages = {}\n",
    "\n",
    "# Lakukan perulangan melalui setiap column dalam X_train\n",
    "for col in X_train.columns:\n",
    "    data_skew = X_train[col]\n",
    "    mean = np.mean(data_skew)\n",
    "    std_dev = np.std(data_skew)\n",
    "\n",
    "    upper_bound = mean + threshold * std_dev\n",
    "    lower_bound = mean - threshold * std_dev\n",
    "\n",
    "    # Mengidentifikasikan Outlier berdasarkan ambang batas\n",
    "    outliers = np.where((data_skew > upper_bound) | (data_skew < lower_bound))\n",
    "\n",
    "# Menghitung persentase outliers\n",
    "    total_data_points = len(data_skew)\n",
    "    percentage = (len(outliers[0]) / total_data_points) * 100\n",
    "\n",
    "# Menyimpan persentase Outlier dalam dictionary\n",
    "    outlier_percentages[col] = percentage\n",
    "\n",
    "# Print percentage Outlier untuk setiap column\n",
    "for col, percentage in outlier_percentages.items():\n",
    "    print(f\"Percentage of outliers in column {col}: {percentage:.2f}%\")"
   ]
  },
  {
   "cell_type": "code",
   "execution_count": 29,
   "metadata": {},
   "outputs": [
    {
     "name": "stdout",
     "output_type": "stream",
     "text": [
      "Skewness dari Area adalah 0.31739099646021457\n",
      "Skewness dari Perimeter adalah 0.2202071450636131\n",
      "Skewness dari Major_Axis_Length adalah 0.25992111080619956\n",
      "Skewness dari Minor_Axis_Length adalah -0.1034670595239878\n",
      "Skewness dari Eccentricity adalah -0.3657690480914791\n",
      "Skewness dari Convex_Area adalah 0.3124321598394461\n",
      "Skewness dari Extent adalah 0.32851837408150636\n"
     ]
    }
   ],
   "source": [
    "# Menghitung niai skewness\n",
    "for i in X_train:\n",
    "    skew = X_train[i].skew()\n",
    "    print('Skewness dari', i, 'adalah', skew)"
   ]
  },
  {
   "cell_type": "markdown",
   "metadata": {},
   "source": [
    "Cardinality Analysis"
   ]
  },
  {
   "cell_type": "code",
   "execution_count": 30,
   "metadata": {},
   "outputs": [
    {
     "name": "stdout",
     "output_type": "stream",
     "text": [
      "Jumlah Nilai Unik dalam Kolom 'Area': 2828\n",
      "Jumlah Nilai Unik dalam Kolom 'Perimeter': 3738\n",
      "Jumlah Nilai Unik dalam Kolom 'Major Axis Length': 3808\n",
      "Jumlah Nilai Unik dalam Kolom 'Minor Axis Length': 3804\n",
      "Jumlah Nilai Unik dalam Kolom 'Eccentricity': 3803\n",
      "Jumlah Nilai Unik dalam Kolom 'Convex_Area': 2857\n",
      "Jumlah Nilai Unik dalam Kolom 'Extent': 3804\n",
      "Jumlah Nilai Unik dalam Kolom 'Class': 2\n"
     ]
    }
   ],
   "source": [
    "# Menghitung jumlah nilai unik dalam kolom\n",
    "jumlah_nilai_area = df['Area'].nunique()\n",
    "jumlah_nilai_perimeter = df['Perimeter'].nunique()\n",
    "jumlah_nilai_mal = df['Major_Axis_Length'].nunique()\n",
    "jumlah_nilai_minal = df['Minor_Axis_Length'].nunique()\n",
    "jumlah_nilai_e = df['Eccentricity'].nunique()\n",
    "jumlah_nilai_ca = df['Convex_Area'].nunique()\n",
    "jumlah_nilai_ex = df['Extent'].nunique()\n",
    "jumlah_nilai_c = df['Class'].nunique()\n",
    "\n",
    "print(f\"Jumlah Nilai Unik dalam Kolom 'Area': {jumlah_nilai_area}\")\n",
    "print(f\"Jumlah Nilai Unik dalam Kolom 'Perimeter': {jumlah_nilai_perimeter}\")\n",
    "print(f\"Jumlah Nilai Unik dalam Kolom 'Major Axis Length': {jumlah_nilai_mal}\")\n",
    "print(f\"Jumlah Nilai Unik dalam Kolom 'Minor Axis Length': {jumlah_nilai_minal}\")\n",
    "print(f\"Jumlah Nilai Unik dalam Kolom 'Eccentricity': {jumlah_nilai_e}\")\n",
    "print(f\"Jumlah Nilai Unik dalam Kolom 'Convex_Area': {jumlah_nilai_ca}\")\n",
    "print(f\"Jumlah Nilai Unik dalam Kolom 'Extent': {jumlah_nilai_ex}\")\n",
    "print(f\"Jumlah Nilai Unik dalam Kolom 'Class': {jumlah_nilai_c}\")"
   ]
  },
  {
   "cell_type": "markdown",
   "metadata": {},
   "source": [
    "- dari jumlah nilai unik tertinggi adalah Major Axis Length dengan 3808 kategori."
   ]
  },
  {
   "cell_type": "markdown",
   "metadata": {},
   "source": [
    "Check Vif"
   ]
  },
  {
   "cell_type": "code",
   "execution_count": 31,
   "metadata": {},
   "outputs": [
    {
     "name": "stdout",
     "output_type": "stream",
     "text": [
      "            Variable           VIF\n",
      "0               Area  58312.657656\n",
      "1          Perimeter  37536.317405\n",
      "2  Major_Axis_Length  42264.657081\n",
      "3  Minor_Axis_Length   9837.102970\n",
      "4       Eccentricity  12226.340868\n",
      "5        Convex_Area  56306.041123\n",
      "6             Extent     84.759413\n"
     ]
    }
   ],
   "source": [
    "X = df[['Area', 'Perimeter', 'Major_Axis_Length', 'Minor_Axis_Length', 'Eccentricity', 'Convex_Area', 'Extent']]\n",
    "\n",
    "# Menghitung VIF\n",
    "vif_data = pd.DataFrame()\n",
    "vif_data[\"Variable\"] = X.columns\n",
    "vif_data[\"VIF\"] = [variance_inflation_factor(X.values, i) for i in range(X.shape[1])]\n",
    "\n",
    "print(vif_data)"
   ]
  },
  {
   "cell_type": "markdown",
   "metadata": {},
   "source": [
    "- pada variabel Extent memiliki vif yang relatif rendah.\n",
    "- pada variabel prediktor yang tertinggi yaitu variabel area."
   ]
  },
  {
   "cell_type": "markdown",
   "metadata": {},
   "source": [
    "Feature Selection"
   ]
  },
  {
   "cell_type": "code",
   "execution_count": 32,
   "metadata": {},
   "outputs": [],
   "source": [
    "categorical = df[['Area', 'Perimeter', 'Major_Axis_Length', 'Minor_Axis_Length', \n",
    "                  'Eccentricity', 'Convex_Area', 'Extent']]"
   ]
  },
  {
   "cell_type": "code",
   "execution_count": 33,
   "metadata": {},
   "outputs": [
    {
     "data": {
      "text/plain": [
       "<Axes: >"
      ]
     },
     "execution_count": 33,
     "metadata": {},
     "output_type": "execute_result"
    },
    {
     "data": {
      "image/png": "[encoded data removed]",
      "text/plain": [
       "<Figure size 2000x2000 with 2 Axes>"
      ]
     },
     "metadata": {},
     "output_type": "display_data"
    }
   ],
   "source": [
    "plt.figure(figsize=(20,20)) \n",
    "sns.heatmap(categorical.corr(method='pearson'),annot=True)"
   ]
  },
  {
   "cell_type": "markdown",
   "metadata": {},
   "source": [
    "Warna Terang :\n",
    "- Area dan Contex area memiliki warna terang karena semakin besar area semakin besar kemungkinan area cembungnya.\n",
    "- Pada Major Axis Length dan Minor Axis Length ini menunjukkan bahwa biji yang lebih panjang dalam satu arah cenderung lebih panjang dalam arah yang lain.\n",
    "- Eccentricity dan Extent. Bijih dengan eksentrisitas yang tinggi cenderung memiliki ekstent yang rendah, dan sebaliknya.\n",
    "\n",
    "Warna Gelap : \n",
    "- Tidak ada korelasi negatif yang kuat antara variabel-variabel yang ditampilkan dalam heatmap. Semua korelasi negatif terlihat lemah atau dekat dengan nol.\n",
    "\n",
    "Warna Netral : \n",
    "- Sebagian besar pasangan variabel tidak menunjukkan korelasi yang kuat (warna netral pada heatmap). Ini berarti bahwa variabel-variabel ini relatif independen satu sama lain."
   ]
  },
  {
   "cell_type": "markdown",
   "metadata": {},
   "source": [
    "Feature Scaling"
   ]
  },
  {
   "cell_type": "code",
   "execution_count": 34,
   "metadata": {},
   "outputs": [],
   "source": [
    "columns_to_scale = ['Area', 'Perimeter', 'Major_Axis_Length', 'Minor_Axis_Length', 'Eccentricity', 'Convex_Area', 'Extent']\n",
    "# column_ordin = ['FCVC','NCP','CAEC', 'CH2O', 'FAF', 'TUE' ,'CALC']\n",
    "# column_onhot = ['Gender','FAVC', 'family_history_with_overweight', 'SMOKE', 'SCC', 'MTRANS']\n",
    "# Create a list of transformers for the ColumnTransformer\n",
    "transformers = [\n",
    "    (\"robust_scaler\", RobustScaler(), columns_to_scale),\n",
    "\n",
    "]\n",
    "\n",
    "preprocessor = ColumnTransformer(transformers, remainder=\"passthrough\")"
   ]
  },
  {
   "cell_type": "markdown",
   "metadata": {},
   "source": [
    "Feature Encoding"
   ]
  },
  {
   "cell_type": "markdown",
   "metadata": {},
   "source": [
    "- Semua data sudah berbentuk angka"
   ]
  },
  {
   "cell_type": "markdown",
   "metadata": {},
   "source": [
    "Concate Data"
   ]
  },
  {
   "cell_type": "markdown",
   "metadata": {},
   "source": [
    "- tidak perlu dilakukan karna data tidak perlu dipisahkan numerik dan kategori."
   ]
  },
  {
   "cell_type": "markdown",
   "metadata": {},
   "source": [
    "Balancing data"
   ]
  },
  {
   "cell_type": "code",
   "execution_count": 54,
   "metadata": {},
   "outputs": [
    {
     "data": {
      "text/plain": [
       "Class\n",
       "b'Osmancik'    0.57021\n",
       "b'Cammeo'      0.42979\n",
       "Name: proportion, dtype: float64"
      ]
     },
     "execution_count": 54,
     "metadata": {},
     "output_type": "execute_result"
    }
   ],
   "source": [
    "y_train.value_counts(normalize=True)"
   ]
  },
  {
   "cell_type": "markdown",
   "metadata": {},
   "source": [
    "- karna data balance jadi tidak perlu melakukan balancing data."
   ]
  },
  {
   "cell_type": "markdown",
   "metadata": {},
   "source": [
    "# 6. Model Definition"
   ]
  },
  {
   "cell_type": "markdown",
   "metadata": {},
   "source": [
    "Model Pipeline"
   ]
  },
  {
   "cell_type": "code",
   "execution_count": 36,
   "metadata": {},
   "outputs": [],
   "source": [
    "knn_pipeline = make_pipeline(preprocessor, KNeighborsClassifier(n_jobs=-1))\n",
    "svm_pipeline = make_pipeline(preprocessor, SVC())\n",
    "decision_pipeline = make_pipeline(preprocessor, DecisionTreeClassifier(random_state=42))\n",
    "random_forest_pipeline = make_pipeline(preprocessor, RandomForestClassifier(random_state=42))\n",
    "adaboost_pipeline = make_pipeline(preprocessor, AdaBoostClassifier(random_state=42))"
   ]
  },
  {
   "cell_type": "code",
   "execution_count": 37,
   "metadata": {},
   "outputs": [
    {
     "name": "stdout",
     "output_type": "stream",
     "text": [
      "K-Nearest Neighbors:\n",
      "Cross-Validation Scores: [0.91803279 0.91639344 0.91639344 0.91133005 0.91954023]\n",
      "Mean Accuracy: 0.9163379902554578\n",
      "==================================================\n",
      "Support Vector Classifier:\n",
      "Cross-Validation Scores: [0.91967213 0.92295082 0.92622951 0.9228243  0.92610837]\n",
      "Mean Accuracy: 0.9235570271070553\n",
      "==================================================\n",
      "Decision Tree:\n",
      "Cross-Validation Scores: [0.88196721 0.89508197 0.88196721 0.8817734  0.87356322]\n",
      "Mean Accuracy: 0.8828706021696412\n",
      "==================================================\n",
      "Random Forest:\n",
      "Cross-Validation Scores: [0.91147541 0.91803279 0.92131148 0.92446634 0.91133005]\n",
      "Mean Accuracy: 0.9173232119303346\n",
      "==================================================\n",
      "AdaBoost:\n",
      "Cross-Validation Scores: [0.91311475 0.9147541  0.92622951 0.91133005 0.9047619 ]\n",
      "Mean Accuracy: 0.9140380629357452\n",
      "==================================================\n"
     ]
    }
   ],
   "source": [
    "classifiers = [\n",
    "    (\"K-Nearest Neighbors\", knn_pipeline),\n",
    "    (\"Support Vector Classifier\", svm_pipeline),\n",
    "    (\"Decision Tree\", decision_pipeline),\n",
    "    (\"Random Forest\", random_forest_pipeline),\n",
    "    (\"AdaBoost\", adaboost_pipeline)\n",
    "]\n",
    "\n",
    "for name, pipeline in classifiers:\n",
    "    scores = cross_val_score(pipeline, X_train, y_train, cv=5, scoring='accuracy')\n",
    "    print(f\"{name}:\")\n",
    "    print(f\"Cross-Validation Scores: {scores}\")\n",
    "    print(f\"Mean Accuracy: {scores.mean()}\")\n",
    "    print(\"=\"*50)\n"
   ]
  },
  {
   "cell_type": "markdown",
   "metadata": {},
   "source": [
    "# 7. Model Training"
   ]
  },
  {
   "cell_type": "markdown",
   "metadata": {},
   "source": [
    "K-Nearest Neighbors"
   ]
  },
  {
   "cell_type": "code",
   "execution_count": 38,
   "metadata": {},
   "outputs": [
    {
     "data": {
      "text/html": [
       "<style>#sk-container-id-1 {color: black;background-color: white;}#sk-container-id-1 pre{padding: 0;}#sk-container-id-1 div.sk-toggleable {background-color: white;}#sk-container-id-1 label.sk-toggleable__label {cursor: pointer;display: block;width: 100%;margin-bottom: 0;padding: 0.3em;box-sizing: border-box;text-align: center;}#sk-container-id-1 label.sk-toggleable__label-arrow:before {content: \"▸\";float: left;margin-right: 0.25em;color: #696969;}#sk-container-id-1 label.sk-toggleable__label-arrow:hover:before {color: black;}#sk-container-id-1 div.sk-estimator:hover label.sk-toggleable__label-arrow:before {color: black;}#sk-container-id-1 div.sk-toggleable__content {max-height: 0;max-width: 0;overflow: hidden;text-align: left;background-color: #f0f8ff;}#sk-container-id-1 div.sk-toggleable__content pre {margin: 0.2em;color: black;border-radius: 0.25em;background-color: #f0f8ff;}#sk-container-id-1 input.sk-toggleable__control:checked~div.sk-toggleable__content {max-height: 200px;max-width: 100%;overflow: auto;}#sk-container-id-1 input.sk-toggleable__control:checked~label.sk-toggleable__label-arrow:before {content: \"▾\";}#sk-container-id-1 div.sk-estimator input.sk-toggleable__control:checked~label.sk-toggleable__label {background-color: #d4ebff;}#sk-container-id-1 div.sk-label input.sk-toggleable__control:checked~label.sk-toggleable__label {background-color: #d4ebff;}#sk-container-id-1 input.sk-hidden--visually {border: 0;clip: rect(1px 1px 1px 1px);clip: rect(1px, 1px, 1px, 1px);height: 1px;margin: -1px;overflow: hidden;padding: 0;position: absolute;width: 1px;}#sk-container-id-1 div.sk-estimator {font-family: monospace;background-color: #f0f8ff;border: 1px dotted black;border-radius: 0.25em;box-sizing: border-box;margin-bottom: 0.5em;}#sk-container-id-1 div.sk-estimator:hover {background-color: #d4ebff;}#sk-container-id-1 div.sk-parallel-item::after {content: \"\";width: 100%;border-bottom: 1px solid gray;flex-grow: 1;}#sk-container-id-1 div.sk-label:hover label.sk-toggleable__label {background-color: #d4ebff;}#sk-container-id-1 div.sk-serial::before {content: \"\";position: absolute;border-left: 1px solid gray;box-sizing: border-box;top: 0;bottom: 0;left: 50%;z-index: 0;}#sk-container-id-1 div.sk-serial {display: flex;flex-direction: column;align-items: center;background-color: white;padding-right: 0.2em;padding-left: 0.2em;position: relative;}#sk-container-id-1 div.sk-item {position: relative;z-index: 1;}#sk-container-id-1 div.sk-parallel {display: flex;align-items: stretch;justify-content: center;background-color: white;position: relative;}#sk-container-id-1 div.sk-item::before, #sk-container-id-1 div.sk-parallel-item::before {content: \"\";position: absolute;border-left: 1px solid gray;box-sizing: border-box;top: 0;bottom: 0;left: 50%;z-index: -1;}#sk-container-id-1 div.sk-parallel-item {display: flex;flex-direction: column;z-index: 1;position: relative;background-color: white;}#sk-container-id-1 div.sk-parallel-item:first-child::after {align-self: flex-end;width: 50%;}#sk-container-id-1 div.sk-parallel-item:last-child::after {align-self: flex-start;width: 50%;}#sk-container-id-1 div.sk-parallel-item:only-child::after {width: 0;}#sk-container-id-1 div.sk-dashed-wrapped {border: 1px dashed gray;margin: 0 0.4em 0.5em 0.4em;box-sizing: border-box;padding-bottom: 0.4em;background-color: white;}#sk-container-id-1 div.sk-label label {font-family: monospace;font-weight: bold;display: inline-block;line-height: 1.2em;}#sk-container-id-1 div.sk-label-container {text-align: center;}#sk-container-id-1 div.sk-container {/* jupyter's `normalize.less` sets `[hidden] { display: none; }` but bootstrap.min.css set `[hidden] { display: none !important; }` so we also need the `!important` here to be able to override the default hidden behavior on the sphinx rendered scikit-learn.org. See: https://github.com/scikit-learn/scikit-learn/issues/21755 */display: inline-block !important;position: relative;}#sk-container-id-1 div.sk-text-repr-fallback {display: none;}</style><div id=\"sk-container-id-1\" class=\"sk-top-container\"><div class=\"sk-text-repr-fallback\"><pre>Pipeline(steps=[(&#x27;columntransformer&#x27;,\n",
       "                 ColumnTransformer(remainder=&#x27;passthrough&#x27;,\n",
       "                                   transformers=[(&#x27;robust_scaler&#x27;,\n",
       "                                                  RobustScaler(),\n",
       "                                                  [&#x27;Area&#x27;, &#x27;Perimeter&#x27;,\n",
       "                                                   &#x27;Major_Axis_Length&#x27;,\n",
       "                                                   &#x27;Minor_Axis_Length&#x27;,\n",
       "                                                   &#x27;Eccentricity&#x27;,\n",
       "                                                   &#x27;Convex_Area&#x27;,\n",
       "                                                   &#x27;Extent&#x27;])])),\n",
       "                (&#x27;kneighborsclassifier&#x27;, KNeighborsClassifier(n_jobs=-1))])</pre><b>In a Jupyter environment, please rerun this cell to show the HTML representation or trust the notebook. <br />On GitHub, the HTML representation is unable to render, please try loading this page with nbviewer.org.</b></div><div class=\"sk-container\" hidden><div class=\"sk-item sk-dashed-wrapped\"><div class=\"sk-label-container\"><div class=\"sk-label sk-toggleable\"><input class=\"sk-toggleable__control sk-hidden--visually\" id=\"sk-estimator-id-1\" type=\"checkbox\" ><label for=\"sk-estimator-id-1\" class=\"sk-toggleable__label sk-toggleable__label-arrow\">Pipeline</label><div class=\"sk-toggleable__content\"><pre>Pipeline(steps=[(&#x27;columntransformer&#x27;,\n",
       "                 ColumnTransformer(remainder=&#x27;passthrough&#x27;,\n",
       "                                   transformers=[(&#x27;robust_scaler&#x27;,\n",
       "                                                  RobustScaler(),\n",
       "                                                  [&#x27;Area&#x27;, &#x27;Perimeter&#x27;,\n",
       "                                                   &#x27;Major_Axis_Length&#x27;,\n",
       "                                                   &#x27;Minor_Axis_Length&#x27;,\n",
       "                                                   &#x27;Eccentricity&#x27;,\n",
       "                                                   &#x27;Convex_Area&#x27;,\n",
       "                                                   &#x27;Extent&#x27;])])),\n",
       "                (&#x27;kneighborsclassifier&#x27;, KNeighborsClassifier(n_jobs=-1))])</pre></div></div></div><div class=\"sk-serial\"><div class=\"sk-item sk-dashed-wrapped\"><div class=\"sk-label-container\"><div class=\"sk-label sk-toggleable\"><input class=\"sk-toggleable__control sk-hidden--visually\" id=\"sk-estimator-id-2\" type=\"checkbox\" ><label for=\"sk-estimator-id-2\" class=\"sk-toggleable__label sk-toggleable__label-arrow\">columntransformer: ColumnTransformer</label><div class=\"sk-toggleable__content\"><pre>ColumnTransformer(remainder=&#x27;passthrough&#x27;,\n",
       "                  transformers=[(&#x27;robust_scaler&#x27;, RobustScaler(),\n",
       "                                 [&#x27;Area&#x27;, &#x27;Perimeter&#x27;, &#x27;Major_Axis_Length&#x27;,\n",
       "                                  &#x27;Minor_Axis_Length&#x27;, &#x27;Eccentricity&#x27;,\n",
       "                                  &#x27;Convex_Area&#x27;, &#x27;Extent&#x27;])])</pre></div></div></div><div class=\"sk-parallel\"><div class=\"sk-parallel-item\"><div class=\"sk-item\"><div class=\"sk-label-container\"><div class=\"sk-label sk-toggleable\"><input class=\"sk-toggleable__control sk-hidden--visually\" id=\"sk-estimator-id-3\" type=\"checkbox\" ><label for=\"sk-estimator-id-3\" class=\"sk-toggleable__label sk-toggleable__label-arrow\">robust_scaler</label><div class=\"sk-toggleable__content\"><pre>[&#x27;Area&#x27;, &#x27;Perimeter&#x27;, &#x27;Major_Axis_Length&#x27;, &#x27;Minor_Axis_Length&#x27;, &#x27;Eccentricity&#x27;, &#x27;Convex_Area&#x27;, &#x27;Extent&#x27;]</pre></div></div></div><div class=\"sk-serial\"><div class=\"sk-item\"><div class=\"sk-estimator sk-toggleable\"><input class=\"sk-toggleable__control sk-hidden--visually\" id=\"sk-estimator-id-4\" type=\"checkbox\" ><label for=\"sk-estimator-id-4\" class=\"sk-toggleable__label sk-toggleable__label-arrow\">RobustScaler</label><div class=\"sk-toggleable__content\"><pre>RobustScaler()</pre></div></div></div></div></div></div><div class=\"sk-parallel-item\"><div class=\"sk-item\"><div class=\"sk-label-container\"><div class=\"sk-label sk-toggleable\"><input class=\"sk-toggleable__control sk-hidden--visually\" id=\"sk-estimator-id-5\" type=\"checkbox\" ><label for=\"sk-estimator-id-5\" class=\"sk-toggleable__label sk-toggleable__label-arrow\">remainder</label><div class=\"sk-toggleable__content\"><pre>[]</pre></div></div></div><div class=\"sk-serial\"><div class=\"sk-item\"><div class=\"sk-estimator sk-toggleable\"><input class=\"sk-toggleable__control sk-hidden--visually\" id=\"sk-estimator-id-6\" type=\"checkbox\" ><label for=\"sk-estimator-id-6\" class=\"sk-toggleable__label sk-toggleable__label-arrow\">passthrough</label><div class=\"sk-toggleable__content\"><pre>passthrough</pre></div></div></div></div></div></div></div></div><div class=\"sk-item\"><div class=\"sk-estimator sk-toggleable\"><input class=\"sk-toggleable__control sk-hidden--visually\" id=\"sk-estimator-id-7\" type=\"checkbox\" ><label for=\"sk-estimator-id-7\" class=\"sk-toggleable__label sk-toggleable__label-arrow\">KNeighborsClassifier</label><div class=\"sk-toggleable__content\"><pre>KNeighborsClassifier(n_jobs=-1)</pre></div></div></div></div></div></div></div>"
      ],
      "text/plain": [
       "Pipeline(steps=[('columntransformer',\n",
       "                 ColumnTransformer(remainder='passthrough',\n",
       "                                   transformers=[('robust_scaler',\n",
       "                                                  RobustScaler(),\n",
       "                                                  ['Area', 'Perimeter',\n",
       "                                                   'Major_Axis_Length',\n",
       "                                                   'Minor_Axis_Length',\n",
       "                                                   'Eccentricity',\n",
       "                                                   'Convex_Area',\n",
       "                                                   'Extent'])])),\n",
       "                ('kneighborsclassifier', KNeighborsClassifier(n_jobs=-1))])"
      ]
     },
     "execution_count": 38,
     "metadata": {},
     "output_type": "execute_result"
    }
   ],
   "source": [
    "knn_pipeline.fit(X_train, y_train)"
   ]
  },
  {
   "cell_type": "markdown",
   "metadata": {},
   "source": [
    "Support Vector Classifier"
   ]
  },
  {
   "cell_type": "code",
   "execution_count": 39,
   "metadata": {},
   "outputs": [
    {
     "data": {
      "text/html": [
       "<style>#sk-container-id-2 {color: black;background-color: white;}#sk-container-id-2 pre{padding: 0;}#sk-container-id-2 div.sk-toggleable {background-color: white;}#sk-container-id-2 label.sk-toggleable__label {cursor: pointer;display: block;width: 100%;margin-bottom: 0;padding: 0.3em;box-sizing: border-box;text-align: center;}#sk-container-id-2 label.sk-toggleable__label-arrow:before {content: \"▸\";float: left;margin-right: 0.25em;color: #696969;}#sk-container-id-2 label.sk-toggleable__label-arrow:hover:before {color: black;}#sk-container-id-2 div.sk-estimator:hover label.sk-toggleable__label-arrow:before {color: black;}#sk-container-id-2 div.sk-toggleable__content {max-height: 0;max-width: 0;overflow: hidden;text-align: left;background-color: #f0f8ff;}#sk-container-id-2 div.sk-toggleable__content pre {margin: 0.2em;color: black;border-radius: 0.25em;background-color: #f0f8ff;}#sk-container-id-2 input.sk-toggleable__control:checked~div.sk-toggleable__content {max-height: 200px;max-width: 100%;overflow: auto;}#sk-container-id-2 input.sk-toggleable__control:checked~label.sk-toggleable__label-arrow:before {content: \"▾\";}#sk-container-id-2 div.sk-estimator input.sk-toggleable__control:checked~label.sk-toggleable__label {background-color: #d4ebff;}#sk-container-id-2 div.sk-label input.sk-toggleable__control:checked~label.sk-toggleable__label {background-color: #d4ebff;}#sk-container-id-2 input.sk-hidden--visually {border: 0;clip: rect(1px 1px 1px 1px);clip: rect(1px, 1px, 1px, 1px);height: 1px;margin: -1px;overflow: hidden;padding: 0;position: absolute;width: 1px;}#sk-container-id-2 div.sk-estimator {font-family: monospace;background-color: #f0f8ff;border: 1px dotted black;border-radius: 0.25em;box-sizing: border-box;margin-bottom: 0.5em;}#sk-container-id-2 div.sk-estimator:hover {background-color: #d4ebff;}#sk-container-id-2 div.sk-parallel-item::after {content: \"\";width: 100%;border-bottom: 1px solid gray;flex-grow: 1;}#sk-container-id-2 div.sk-label:hover label.sk-toggleable__label {background-color: #d4ebff;}#sk-container-id-2 div.sk-serial::before {content: \"\";position: absolute;border-left: 1px solid gray;box-sizing: border-box;top: 0;bottom: 0;left: 50%;z-index: 0;}#sk-container-id-2 div.sk-serial {display: flex;flex-direction: column;align-items: center;background-color: white;padding-right: 0.2em;padding-left: 0.2em;position: relative;}#sk-container-id-2 div.sk-item {position: relative;z-index: 1;}#sk-container-id-2 div.sk-parallel {display: flex;align-items: stretch;justify-content: center;background-color: white;position: relative;}#sk-container-id-2 div.sk-item::before, #sk-container-id-2 div.sk-parallel-item::before {content: \"\";position: absolute;border-left: 1px solid gray;box-sizing: border-box;top: 0;bottom: 0;left: 50%;z-index: -1;}#sk-container-id-2 div.sk-parallel-item {display: flex;flex-direction: column;z-index: 1;position: relative;background-color: white;}#sk-container-id-2 div.sk-parallel-item:first-child::after {align-self: flex-end;width: 50%;}#sk-container-id-2 div.sk-parallel-item:last-child::after {align-self: flex-start;width: 50%;}#sk-container-id-2 div.sk-parallel-item:only-child::after {width: 0;}#sk-container-id-2 div.sk-dashed-wrapped {border: 1px dashed gray;margin: 0 0.4em 0.5em 0.4em;box-sizing: border-box;padding-bottom: 0.4em;background-color: white;}#sk-container-id-2 div.sk-label label {font-family: monospace;font-weight: bold;display: inline-block;line-height: 1.2em;}#sk-container-id-2 div.sk-label-container {text-align: center;}#sk-container-id-2 div.sk-container {/* jupyter's `normalize.less` sets `[hidden] { display: none; }` but bootstrap.min.css set `[hidden] { display: none !important; }` so we also need the `!important` here to be able to override the default hidden behavior on the sphinx rendered scikit-learn.org. See: https://github.com/scikit-learn/scikit-learn/issues/21755 */display: inline-block !important;position: relative;}#sk-container-id-2 div.sk-text-repr-fallback {display: none;}</style><div id=\"sk-container-id-2\" class=\"sk-top-container\"><div class=\"sk-text-repr-fallback\"><pre>Pipeline(steps=[(&#x27;columntransformer&#x27;,\n",
       "                 ColumnTransformer(remainder=&#x27;passthrough&#x27;,\n",
       "                                   transformers=[(&#x27;robust_scaler&#x27;,\n",
       "                                                  RobustScaler(),\n",
       "                                                  [&#x27;Area&#x27;, &#x27;Perimeter&#x27;,\n",
       "                                                   &#x27;Major_Axis_Length&#x27;,\n",
       "                                                   &#x27;Minor_Axis_Length&#x27;,\n",
       "                                                   &#x27;Eccentricity&#x27;,\n",
       "                                                   &#x27;Convex_Area&#x27;,\n",
       "                                                   &#x27;Extent&#x27;])])),\n",
       "                (&#x27;svc&#x27;, SVC())])</pre><b>In a Jupyter environment, please rerun this cell to show the HTML representation or trust the notebook. <br />On GitHub, the HTML representation is unable to render, please try loading this page with nbviewer.org.</b></div><div class=\"sk-container\" hidden><div class=\"sk-item sk-dashed-wrapped\"><div class=\"sk-label-container\"><div class=\"sk-label sk-toggleable\"><input class=\"sk-toggleable__control sk-hidden--visually\" id=\"sk-estimator-id-8\" type=\"checkbox\" ><label for=\"sk-estimator-id-8\" class=\"sk-toggleable__label sk-toggleable__label-arrow\">Pipeline</label><div class=\"sk-toggleable__content\"><pre>Pipeline(steps=[(&#x27;columntransformer&#x27;,\n",
       "                 ColumnTransformer(remainder=&#x27;passthrough&#x27;,\n",
       "                                   transformers=[(&#x27;robust_scaler&#x27;,\n",
       "                                                  RobustScaler(),\n",
       "                                                  [&#x27;Area&#x27;, &#x27;Perimeter&#x27;,\n",
       "                                                   &#x27;Major_Axis_Length&#x27;,\n",
       "                                                   &#x27;Minor_Axis_Length&#x27;,\n",
       "                                                   &#x27;Eccentricity&#x27;,\n",
       "                                                   &#x27;Convex_Area&#x27;,\n",
       "                                                   &#x27;Extent&#x27;])])),\n",
       "                (&#x27;svc&#x27;, SVC())])</pre></div></div></div><div class=\"sk-serial\"><div class=\"sk-item sk-dashed-wrapped\"><div class=\"sk-label-container\"><div class=\"sk-label sk-toggleable\"><input class=\"sk-toggleable__control sk-hidden--visually\" id=\"sk-estimator-id-9\" type=\"checkbox\" ><label for=\"sk-estimator-id-9\" class=\"sk-toggleable__label sk-toggleable__label-arrow\">columntransformer: ColumnTransformer</label><div class=\"sk-toggleable__content\"><pre>ColumnTransformer(remainder=&#x27;passthrough&#x27;,\n",
       "                  transformers=[(&#x27;robust_scaler&#x27;, RobustScaler(),\n",
       "                                 [&#x27;Area&#x27;, &#x27;Perimeter&#x27;, &#x27;Major_Axis_Length&#x27;,\n",
       "                                  &#x27;Minor_Axis_Length&#x27;, &#x27;Eccentricity&#x27;,\n",
       "                                  &#x27;Convex_Area&#x27;, &#x27;Extent&#x27;])])</pre></div></div></div><div class=\"sk-parallel\"><div class=\"sk-parallel-item\"><div class=\"sk-item\"><div class=\"sk-label-container\"><div class=\"sk-label sk-toggleable\"><input class=\"sk-toggleable__control sk-hidden--visually\" id=\"sk-estimator-id-10\" type=\"checkbox\" ><label for=\"sk-estimator-id-10\" class=\"sk-toggleable__label sk-toggleable__label-arrow\">robust_scaler</label><div class=\"sk-toggleable__content\"><pre>[&#x27;Area&#x27;, &#x27;Perimeter&#x27;, &#x27;Major_Axis_Length&#x27;, &#x27;Minor_Axis_Length&#x27;, &#x27;Eccentricity&#x27;, &#x27;Convex_Area&#x27;, &#x27;Extent&#x27;]</pre></div></div></div><div class=\"sk-serial\"><div class=\"sk-item\"><div class=\"sk-estimator sk-toggleable\"><input class=\"sk-toggleable__control sk-hidden--visually\" id=\"sk-estimator-id-11\" type=\"checkbox\" ><label for=\"sk-estimator-id-11\" class=\"sk-toggleable__label sk-toggleable__label-arrow\">RobustScaler</label><div class=\"sk-toggleable__content\"><pre>RobustScaler()</pre></div></div></div></div></div></div><div class=\"sk-parallel-item\"><div class=\"sk-item\"><div class=\"sk-label-container\"><div class=\"sk-label sk-toggleable\"><input class=\"sk-toggleable__control sk-hidden--visually\" id=\"sk-estimator-id-12\" type=\"checkbox\" ><label for=\"sk-estimator-id-12\" class=\"sk-toggleable__label sk-toggleable__label-arrow\">remainder</label><div class=\"sk-toggleable__content\"><pre>[]</pre></div></div></div><div class=\"sk-serial\"><div class=\"sk-item\"><div class=\"sk-estimator sk-toggleable\"><input class=\"sk-toggleable__control sk-hidden--visually\" id=\"sk-estimator-id-13\" type=\"checkbox\" ><label for=\"sk-estimator-id-13\" class=\"sk-toggleable__label sk-toggleable__label-arrow\">passthrough</label><div class=\"sk-toggleable__content\"><pre>passthrough</pre></div></div></div></div></div></div></div></div><div class=\"sk-item\"><div class=\"sk-estimator sk-toggleable\"><input class=\"sk-toggleable__control sk-hidden--visually\" id=\"sk-estimator-id-14\" type=\"checkbox\" ><label for=\"sk-estimator-id-14\" class=\"sk-toggleable__label sk-toggleable__label-arrow\">SVC</label><div class=\"sk-toggleable__content\"><pre>SVC()</pre></div></div></div></div></div></div></div>"
      ],
      "text/plain": [
       "Pipeline(steps=[('columntransformer',\n",
       "                 ColumnTransformer(remainder='passthrough',\n",
       "                                   transformers=[('robust_scaler',\n",
       "                                                  RobustScaler(),\n",
       "                                                  ['Area', 'Perimeter',\n",
       "                                                   'Major_Axis_Length',\n",
       "                                                   'Minor_Axis_Length',\n",
       "                                                   'Eccentricity',\n",
       "                                                   'Convex_Area',\n",
       "                                                   'Extent'])])),\n",
       "                ('svc', SVC())])"
      ]
     },
     "execution_count": 39,
     "metadata": {},
     "output_type": "execute_result"
    }
   ],
   "source": [
    "svm_pipeline.fit(X_train, y_train)"
   ]
  },
  {
   "cell_type": "markdown",
   "metadata": {},
   "source": [
    "Decision Tree"
   ]
  },
  {
   "cell_type": "code",
   "execution_count": 40,
   "metadata": {},
   "outputs": [
    {
     "data": {
      "text/html": [
       "<style>#sk-container-id-3 {color: black;background-color: white;}#sk-container-id-3 pre{padding: 0;}#sk-container-id-3 div.sk-toggleable {background-color: white;}#sk-container-id-3 label.sk-toggleable__label {cursor: pointer;display: block;width: 100%;margin-bottom: 0;padding: 0.3em;box-sizing: border-box;text-align: center;}#sk-container-id-3 label.sk-toggleable__label-arrow:before {content: \"▸\";float: left;margin-right: 0.25em;color: #696969;}#sk-container-id-3 label.sk-toggleable__label-arrow:hover:before {color: black;}#sk-container-id-3 div.sk-estimator:hover label.sk-toggleable__label-arrow:before {color: black;}#sk-container-id-3 div.sk-toggleable__content {max-height: 0;max-width: 0;overflow: hidden;text-align: left;background-color: #f0f8ff;}#sk-container-id-3 div.sk-toggleable__content pre {margin: 0.2em;color: black;border-radius: 0.25em;background-color: #f0f8ff;}#sk-container-id-3 input.sk-toggleable__control:checked~div.sk-toggleable__content {max-height: 200px;max-width: 100%;overflow: auto;}#sk-container-id-3 input.sk-toggleable__control:checked~label.sk-toggleable__label-arrow:before {content: \"▾\";}#sk-container-id-3 div.sk-estimator input.sk-toggleable__control:checked~label.sk-toggleable__label {background-color: #d4ebff;}#sk-container-id-3 div.sk-label input.sk-toggleable__control:checked~label.sk-toggleable__label {background-color: #d4ebff;}#sk-container-id-3 input.sk-hidden--visually {border: 0;clip: rect(1px 1px 1px 1px);clip: rect(1px, 1px, 1px, 1px);height: 1px;margin: -1px;overflow: hidden;padding: 0;position: absolute;width: 1px;}#sk-container-id-3 div.sk-estimator {font-family: monospace;background-color: #f0f8ff;border: 1px dotted black;border-radius: 0.25em;box-sizing: border-box;margin-bottom: 0.5em;}#sk-container-id-3 div.sk-estimator:hover {background-color: #d4ebff;}#sk-container-id-3 div.sk-parallel-item::after {content: \"\";width: 100%;border-bottom: 1px solid gray;flex-grow: 1;}#sk-container-id-3 div.sk-label:hover label.sk-toggleable__label {background-color: #d4ebff;}#sk-container-id-3 div.sk-serial::before {content: \"\";position: absolute;border-left: 1px solid gray;box-sizing: border-box;top: 0;bottom: 0;left: 50%;z-index: 0;}#sk-container-id-3 div.sk-serial {display: flex;flex-direction: column;align-items: center;background-color: white;padding-right: 0.2em;padding-left: 0.2em;position: relative;}#sk-container-id-3 div.sk-item {position: relative;z-index: 1;}#sk-container-id-3 div.sk-parallel {display: flex;align-items: stretch;justify-content: center;background-color: white;position: relative;}#sk-container-id-3 div.sk-item::before, #sk-container-id-3 div.sk-parallel-item::before {content: \"\";position: absolute;border-left: 1px solid gray;box-sizing: border-box;top: 0;bottom: 0;left: 50%;z-index: -1;}#sk-container-id-3 div.sk-parallel-item {display: flex;flex-direction: column;z-index: 1;position: relative;background-color: white;}#sk-container-id-3 div.sk-parallel-item:first-child::after {align-self: flex-end;width: 50%;}#sk-container-id-3 div.sk-parallel-item:last-child::after {align-self: flex-start;width: 50%;}#sk-container-id-3 div.sk-parallel-item:only-child::after {width: 0;}#sk-container-id-3 div.sk-dashed-wrapped {border: 1px dashed gray;margin: 0 0.4em 0.5em 0.4em;box-sizing: border-box;padding-bottom: 0.4em;background-color: white;}#sk-container-id-3 div.sk-label label {font-family: monospace;font-weight: bold;display: inline-block;line-height: 1.2em;}#sk-container-id-3 div.sk-label-container {text-align: center;}#sk-container-id-3 div.sk-container {/* jupyter's `normalize.less` sets `[hidden] { display: none; }` but bootstrap.min.css set `[hidden] { display: none !important; }` so we also need the `!important` here to be able to override the default hidden behavior on the sphinx rendered scikit-learn.org. See: https://github.com/scikit-learn/scikit-learn/issues/21755 */display: inline-block !important;position: relative;}#sk-container-id-3 div.sk-text-repr-fallback {display: none;}</style><div id=\"sk-container-id-3\" class=\"sk-top-container\"><div class=\"sk-text-repr-fallback\"><pre>Pipeline(steps=[(&#x27;columntransformer&#x27;,\n",
       "                 ColumnTransformer(remainder=&#x27;passthrough&#x27;,\n",
       "                                   transformers=[(&#x27;robust_scaler&#x27;,\n",
       "                                                  RobustScaler(),\n",
       "                                                  [&#x27;Area&#x27;, &#x27;Perimeter&#x27;,\n",
       "                                                   &#x27;Major_Axis_Length&#x27;,\n",
       "                                                   &#x27;Minor_Axis_Length&#x27;,\n",
       "                                                   &#x27;Eccentricity&#x27;,\n",
       "                                                   &#x27;Convex_Area&#x27;,\n",
       "                                                   &#x27;Extent&#x27;])])),\n",
       "                (&#x27;decisiontreeclassifier&#x27;,\n",
       "                 DecisionTreeClassifier(random_state=42))])</pre><b>In a Jupyter environment, please rerun this cell to show the HTML representation or trust the notebook. <br />On GitHub, the HTML representation is unable to render, please try loading this page with nbviewer.org.</b></div><div class=\"sk-container\" hidden><div class=\"sk-item sk-dashed-wrapped\"><div class=\"sk-label-container\"><div class=\"sk-label sk-toggleable\"><input class=\"sk-toggleable__control sk-hidden--visually\" id=\"sk-estimator-id-15\" type=\"checkbox\" ><label for=\"sk-estimator-id-15\" class=\"sk-toggleable__label sk-toggleable__label-arrow\">Pipeline</label><div class=\"sk-toggleable__content\"><pre>Pipeline(steps=[(&#x27;columntransformer&#x27;,\n",
       "                 ColumnTransformer(remainder=&#x27;passthrough&#x27;,\n",
       "                                   transformers=[(&#x27;robust_scaler&#x27;,\n",
       "                                                  RobustScaler(),\n",
       "                                                  [&#x27;Area&#x27;, &#x27;Perimeter&#x27;,\n",
       "                                                   &#x27;Major_Axis_Length&#x27;,\n",
       "                                                   &#x27;Minor_Axis_Length&#x27;,\n",
       "                                                   &#x27;Eccentricity&#x27;,\n",
       "                                                   &#x27;Convex_Area&#x27;,\n",
       "                                                   &#x27;Extent&#x27;])])),\n",
       "                (&#x27;decisiontreeclassifier&#x27;,\n",
       "                 DecisionTreeClassifier(random_state=42))])</pre></div></div></div><div class=\"sk-serial\"><div class=\"sk-item sk-dashed-wrapped\"><div class=\"sk-label-container\"><div class=\"sk-label sk-toggleable\"><input class=\"sk-toggleable__control sk-hidden--visually\" id=\"sk-estimator-id-16\" type=\"checkbox\" ><label for=\"sk-estimator-id-16\" class=\"sk-toggleable__label sk-toggleable__label-arrow\">columntransformer: ColumnTransformer</label><div class=\"sk-toggleable__content\"><pre>ColumnTransformer(remainder=&#x27;passthrough&#x27;,\n",
       "                  transformers=[(&#x27;robust_scaler&#x27;, RobustScaler(),\n",
       "                                 [&#x27;Area&#x27;, &#x27;Perimeter&#x27;, &#x27;Major_Axis_Length&#x27;,\n",
       "                                  &#x27;Minor_Axis_Length&#x27;, &#x27;Eccentricity&#x27;,\n",
       "                                  &#x27;Convex_Area&#x27;, &#x27;Extent&#x27;])])</pre></div></div></div><div class=\"sk-parallel\"><div class=\"sk-parallel-item\"><div class=\"sk-item\"><div class=\"sk-label-container\"><div class=\"sk-label sk-toggleable\"><input class=\"sk-toggleable__control sk-hidden--visually\" id=\"sk-estimator-id-17\" type=\"checkbox\" ><label for=\"sk-estimator-id-17\" class=\"sk-toggleable__label sk-toggleable__label-arrow\">robust_scaler</label><div class=\"sk-toggleable__content\"><pre>[&#x27;Area&#x27;, &#x27;Perimeter&#x27;, &#x27;Major_Axis_Length&#x27;, &#x27;Minor_Axis_Length&#x27;, &#x27;Eccentricity&#x27;, &#x27;Convex_Area&#x27;, &#x27;Extent&#x27;]</pre></div></div></div><div class=\"sk-serial\"><div class=\"sk-item\"><div class=\"sk-estimator sk-toggleable\"><input class=\"sk-toggleable__control sk-hidden--visually\" id=\"sk-estimator-id-18\" type=\"checkbox\" ><label for=\"sk-estimator-id-18\" class=\"sk-toggleable__label sk-toggleable__label-arrow\">RobustScaler</label><div class=\"sk-toggleable__content\"><pre>RobustScaler()</pre></div></div></div></div></div></div><div class=\"sk-parallel-item\"><div class=\"sk-item\"><div class=\"sk-label-container\"><div class=\"sk-label sk-toggleable\"><input class=\"sk-toggleable__control sk-hidden--visually\" id=\"sk-estimator-id-19\" type=\"checkbox\" ><label for=\"sk-estimator-id-19\" class=\"sk-toggleable__label sk-toggleable__label-arrow\">remainder</label><div class=\"sk-toggleable__content\"><pre>[]</pre></div></div></div><div class=\"sk-serial\"><div class=\"sk-item\"><div class=\"sk-estimator sk-toggleable\"><input class=\"sk-toggleable__control sk-hidden--visually\" id=\"sk-estimator-id-20\" type=\"checkbox\" ><label for=\"sk-estimator-id-20\" class=\"sk-toggleable__label sk-toggleable__label-arrow\">passthrough</label><div class=\"sk-toggleable__content\"><pre>passthrough</pre></div></div></div></div></div></div></div></div><div class=\"sk-item\"><div class=\"sk-estimator sk-toggleable\"><input class=\"sk-toggleable__control sk-hidden--visually\" id=\"sk-estimator-id-21\" type=\"checkbox\" ><label for=\"sk-estimator-id-21\" class=\"sk-toggleable__label sk-toggleable__label-arrow\">DecisionTreeClassifier</label><div class=\"sk-toggleable__content\"><pre>DecisionTreeClassifier(random_state=42)</pre></div></div></div></div></div></div></div>"
      ],
      "text/plain": [
       "Pipeline(steps=[('columntransformer',\n",
       "                 ColumnTransformer(remainder='passthrough',\n",
       "                                   transformers=[('robust_scaler',\n",
       "                                                  RobustScaler(),\n",
       "                                                  ['Area', 'Perimeter',\n",
       "                                                   'Major_Axis_Length',\n",
       "                                                   'Minor_Axis_Length',\n",
       "                                                   'Eccentricity',\n",
       "                                                   'Convex_Area',\n",
       "                                                   'Extent'])])),\n",
       "                ('decisiontreeclassifier',\n",
       "                 DecisionTreeClassifier(random_state=42))])"
      ]
     },
     "execution_count": 40,
     "metadata": {},
     "output_type": "execute_result"
    }
   ],
   "source": [
    "decision_pipeline.fit(X_train, y_train)"
   ]
  },
  {
   "cell_type": "markdown",
   "metadata": {},
   "source": [
    "Random Forest"
   ]
  },
  {
   "cell_type": "code",
   "execution_count": 41,
   "metadata": {},
   "outputs": [
    {
     "data": {
      "text/html": [
       "<style>#sk-container-id-4 {color: black;background-color: white;}#sk-container-id-4 pre{padding: 0;}#sk-container-id-4 div.sk-toggleable {background-color: white;}#sk-container-id-4 label.sk-toggleable__label {cursor: pointer;display: block;width: 100%;margin-bottom: 0;padding: 0.3em;box-sizing: border-box;text-align: center;}#sk-container-id-4 label.sk-toggleable__label-arrow:before {content: \"▸\";float: left;margin-right: 0.25em;color: #696969;}#sk-container-id-4 label.sk-toggleable__label-arrow:hover:before {color: black;}#sk-container-id-4 div.sk-estimator:hover label.sk-toggleable__label-arrow:before {color: black;}#sk-container-id-4 div.sk-toggleable__content {max-height: 0;max-width: 0;overflow: hidden;text-align: left;background-color: #f0f8ff;}#sk-container-id-4 div.sk-toggleable__content pre {margin: 0.2em;color: black;border-radius: 0.25em;background-color: #f0f8ff;}#sk-container-id-4 input.sk-toggleable__control:checked~div.sk-toggleable__content {max-height: 200px;max-width: 100%;overflow: auto;}#sk-container-id-4 input.sk-toggleable__control:checked~label.sk-toggleable__label-arrow:before {content: \"▾\";}#sk-container-id-4 div.sk-estimator input.sk-toggleable__control:checked~label.sk-toggleable__label {background-color: #d4ebff;}#sk-container-id-4 div.sk-label input.sk-toggleable__control:checked~label.sk-toggleable__label {background-color: #d4ebff;}#sk-container-id-4 input.sk-hidden--visually {border: 0;clip: rect(1px 1px 1px 1px);clip: rect(1px, 1px, 1px, 1px);height: 1px;margin: -1px;overflow: hidden;padding: 0;position: absolute;width: 1px;}#sk-container-id-4 div.sk-estimator {font-family: monospace;background-color: #f0f8ff;border: 1px dotted black;border-radius: 0.25em;box-sizing: border-box;margin-bottom: 0.5em;}#sk-container-id-4 div.sk-estimator:hover {background-color: #d4ebff;}#sk-container-id-4 div.sk-parallel-item::after {content: \"\";width: 100%;border-bottom: 1px solid gray;flex-grow: 1;}#sk-container-id-4 div.sk-label:hover label.sk-toggleable__label {background-color: #d4ebff;}#sk-container-id-4 div.sk-serial::before {content: \"\";position: absolute;border-left: 1px solid gray;box-sizing: border-box;top: 0;bottom: 0;left: 50%;z-index: 0;}#sk-container-id-4 div.sk-serial {display: flex;flex-direction: column;align-items: center;background-color: white;padding-right: 0.2em;padding-left: 0.2em;position: relative;}#sk-container-id-4 div.sk-item {position: relative;z-index: 1;}#sk-container-id-4 div.sk-parallel {display: flex;align-items: stretch;justify-content: center;background-color: white;position: relative;}#sk-container-id-4 div.sk-item::before, #sk-container-id-4 div.sk-parallel-item::before {content: \"\";position: absolute;border-left: 1px solid gray;box-sizing: border-box;top: 0;bottom: 0;left: 50%;z-index: -1;}#sk-container-id-4 div.sk-parallel-item {display: flex;flex-direction: column;z-index: 1;position: relative;background-color: white;}#sk-container-id-4 div.sk-parallel-item:first-child::after {align-self: flex-end;width: 50%;}#sk-container-id-4 div.sk-parallel-item:last-child::after {align-self: flex-start;width: 50%;}#sk-container-id-4 div.sk-parallel-item:only-child::after {width: 0;}#sk-container-id-4 div.sk-dashed-wrapped {border: 1px dashed gray;margin: 0 0.4em 0.5em 0.4em;box-sizing: border-box;padding-bottom: 0.4em;background-color: white;}#sk-container-id-4 div.sk-label label {font-family: monospace;font-weight: bold;display: inline-block;line-height: 1.2em;}#sk-container-id-4 div.sk-label-container {text-align: center;}#sk-container-id-4 div.sk-container {/* jupyter's `normalize.less` sets `[hidden] { display: none; }` but bootstrap.min.css set `[hidden] { display: none !important; }` so we also need the `!important` here to be able to override the default hidden behavior on the sphinx rendered scikit-learn.org. See: https://github.com/scikit-learn/scikit-learn/issues/21755 */display: inline-block !important;position: relative;}#sk-container-id-4 div.sk-text-repr-fallback {display: none;}</style><div id=\"sk-container-id-4\" class=\"sk-top-container\"><div class=\"sk-text-repr-fallback\"><pre>Pipeline(steps=[(&#x27;columntransformer&#x27;,\n",
       "                 ColumnTransformer(remainder=&#x27;passthrough&#x27;,\n",
       "                                   transformers=[(&#x27;robust_scaler&#x27;,\n",
       "                                                  RobustScaler(),\n",
       "                                                  [&#x27;Area&#x27;, &#x27;Perimeter&#x27;,\n",
       "                                                   &#x27;Major_Axis_Length&#x27;,\n",
       "                                                   &#x27;Minor_Axis_Length&#x27;,\n",
       "                                                   &#x27;Eccentricity&#x27;,\n",
       "                                                   &#x27;Convex_Area&#x27;,\n",
       "                                                   &#x27;Extent&#x27;])])),\n",
       "                (&#x27;randomforestclassifier&#x27;,\n",
       "                 RandomForestClassifier(random_state=42))])</pre><b>In a Jupyter environment, please rerun this cell to show the HTML representation or trust the notebook. <br />On GitHub, the HTML representation is unable to render, please try loading this page with nbviewer.org.</b></div><div class=\"sk-container\" hidden><div class=\"sk-item sk-dashed-wrapped\"><div class=\"sk-label-container\"><div class=\"sk-label sk-toggleable\"><input class=\"sk-toggleable__control sk-hidden--visually\" id=\"sk-estimator-id-22\" type=\"checkbox\" ><label for=\"sk-estimator-id-22\" class=\"sk-toggleable__label sk-toggleable__label-arrow\">Pipeline</label><div class=\"sk-toggleable__content\"><pre>Pipeline(steps=[(&#x27;columntransformer&#x27;,\n",
       "                 ColumnTransformer(remainder=&#x27;passthrough&#x27;,\n",
       "                                   transformers=[(&#x27;robust_scaler&#x27;,\n",
       "                                                  RobustScaler(),\n",
       "                                                  [&#x27;Area&#x27;, &#x27;Perimeter&#x27;,\n",
       "                                                   &#x27;Major_Axis_Length&#x27;,\n",
       "                                                   &#x27;Minor_Axis_Length&#x27;,\n",
       "                                                   &#x27;Eccentricity&#x27;,\n",
       "                                                   &#x27;Convex_Area&#x27;,\n",
       "                                                   &#x27;Extent&#x27;])])),\n",
       "                (&#x27;randomforestclassifier&#x27;,\n",
       "                 RandomForestClassifier(random_state=42))])</pre></div></div></div><div class=\"sk-serial\"><div class=\"sk-item sk-dashed-wrapped\"><div class=\"sk-label-container\"><div class=\"sk-label sk-toggleable\"><input class=\"sk-toggleable__control sk-hidden--visually\" id=\"sk-estimator-id-23\" type=\"checkbox\" ><label for=\"sk-estimator-id-23\" class=\"sk-toggleable__label sk-toggleable__label-arrow\">columntransformer: ColumnTransformer</label><div class=\"sk-toggleable__content\"><pre>ColumnTransformer(remainder=&#x27;passthrough&#x27;,\n",
       "                  transformers=[(&#x27;robust_scaler&#x27;, RobustScaler(),\n",
       "                                 [&#x27;Area&#x27;, &#x27;Perimeter&#x27;, &#x27;Major_Axis_Length&#x27;,\n",
       "                                  &#x27;Minor_Axis_Length&#x27;, &#x27;Eccentricity&#x27;,\n",
       "                                  &#x27;Convex_Area&#x27;, &#x27;Extent&#x27;])])</pre></div></div></div><div class=\"sk-parallel\"><div class=\"sk-parallel-item\"><div class=\"sk-item\"><div class=\"sk-label-container\"><div class=\"sk-label sk-toggleable\"><input class=\"sk-toggleable__control sk-hidden--visually\" id=\"sk-estimator-id-24\" type=\"checkbox\" ><label for=\"sk-estimator-id-24\" class=\"sk-toggleable__label sk-toggleable__label-arrow\">robust_scaler</label><div class=\"sk-toggleable__content\"><pre>[&#x27;Area&#x27;, &#x27;Perimeter&#x27;, &#x27;Major_Axis_Length&#x27;, &#x27;Minor_Axis_Length&#x27;, &#x27;Eccentricity&#x27;, &#x27;Convex_Area&#x27;, &#x27;Extent&#x27;]</pre></div></div></div><div class=\"sk-serial\"><div class=\"sk-item\"><div class=\"sk-estimator sk-toggleable\"><input class=\"sk-toggleable__control sk-hidden--visually\" id=\"sk-estimator-id-25\" type=\"checkbox\" ><label for=\"sk-estimator-id-25\" class=\"sk-toggleable__label sk-toggleable__label-arrow\">RobustScaler</label><div class=\"sk-toggleable__content\"><pre>RobustScaler()</pre></div></div></div></div></div></div><div class=\"sk-parallel-item\"><div class=\"sk-item\"><div class=\"sk-label-container\"><div class=\"sk-label sk-toggleable\"><input class=\"sk-toggleable__control sk-hidden--visually\" id=\"sk-estimator-id-26\" type=\"checkbox\" ><label for=\"sk-estimator-id-26\" class=\"sk-toggleable__label sk-toggleable__label-arrow\">remainder</label><div class=\"sk-toggleable__content\"><pre>[]</pre></div></div></div><div class=\"sk-serial\"><div class=\"sk-item\"><div class=\"sk-estimator sk-toggleable\"><input class=\"sk-toggleable__control sk-hidden--visually\" id=\"sk-estimator-id-27\" type=\"checkbox\" ><label for=\"sk-estimator-id-27\" class=\"sk-toggleable__label sk-toggleable__label-arrow\">passthrough</label><div class=\"sk-toggleable__content\"><pre>passthrough</pre></div></div></div></div></div></div></div></div><div class=\"sk-item\"><div class=\"sk-estimator sk-toggleable\"><input class=\"sk-toggleable__control sk-hidden--visually\" id=\"sk-estimator-id-28\" type=\"checkbox\" ><label for=\"sk-estimator-id-28\" class=\"sk-toggleable__label sk-toggleable__label-arrow\">RandomForestClassifier</label><div class=\"sk-toggleable__content\"><pre>RandomForestClassifier(random_state=42)</pre></div></div></div></div></div></div></div>"
      ],
      "text/plain": [
       "Pipeline(steps=[('columntransformer',\n",
       "                 ColumnTransformer(remainder='passthrough',\n",
       "                                   transformers=[('robust_scaler',\n",
       "                                                  RobustScaler(),\n",
       "                                                  ['Area', 'Perimeter',\n",
       "                                                   'Major_Axis_Length',\n",
       "                                                   'Minor_Axis_Length',\n",
       "                                                   'Eccentricity',\n",
       "                                                   'Convex_Area',\n",
       "                                                   'Extent'])])),\n",
       "                ('randomforestclassifier',\n",
       "                 RandomForestClassifier(random_state=42))])"
      ]
     },
     "execution_count": 41,
     "metadata": {},
     "output_type": "execute_result"
    }
   ],
   "source": [
    "random_forest_pipeline.fit(X_train, y_train)"
   ]
  },
  {
   "cell_type": "markdown",
   "metadata": {},
   "source": [
    "AdaBoost"
   ]
  },
  {
   "cell_type": "code",
   "execution_count": 42,
   "metadata": {},
   "outputs": [
    {
     "data": {
      "text/html": [
       "<style>#sk-container-id-5 {color: black;background-color: white;}#sk-container-id-5 pre{padding: 0;}#sk-container-id-5 div.sk-toggleable {background-color: white;}#sk-container-id-5 label.sk-toggleable__label {cursor: pointer;display: block;width: 100%;margin-bottom: 0;padding: 0.3em;box-sizing: border-box;text-align: center;}#sk-container-id-5 label.sk-toggleable__label-arrow:before {content: \"▸\";float: left;margin-right: 0.25em;color: #696969;}#sk-container-id-5 label.sk-toggleable__label-arrow:hover:before {color: black;}#sk-container-id-5 div.sk-estimator:hover label.sk-toggleable__label-arrow:before {color: black;}#sk-container-id-5 div.sk-toggleable__content {max-height: 0;max-width: 0;overflow: hidden;text-align: left;background-color: #f0f8ff;}#sk-container-id-5 div.sk-toggleable__content pre {margin: 0.2em;color: black;border-radius: 0.25em;background-color: #f0f8ff;}#sk-container-id-5 input.sk-toggleable__control:checked~div.sk-toggleable__content {max-height: 200px;max-width: 100%;overflow: auto;}#sk-container-id-5 input.sk-toggleable__control:checked~label.sk-toggleable__label-arrow:before {content: \"▾\";}#sk-container-id-5 div.sk-estimator input.sk-toggleable__control:checked~label.sk-toggleable__label {background-color: #d4ebff;}#sk-container-id-5 div.sk-label input.sk-toggleable__control:checked~label.sk-toggleable__label {background-color: #d4ebff;}#sk-container-id-5 input.sk-hidden--visually {border: 0;clip: rect(1px 1px 1px 1px);clip: rect(1px, 1px, 1px, 1px);height: 1px;margin: -1px;overflow: hidden;padding: 0;position: absolute;width: 1px;}#sk-container-id-5 div.sk-estimator {font-family: monospace;background-color: #f0f8ff;border: 1px dotted black;border-radius: 0.25em;box-sizing: border-box;margin-bottom: 0.5em;}#sk-container-id-5 div.sk-estimator:hover {background-color: #d4ebff;}#sk-container-id-5 div.sk-parallel-item::after {content: \"\";width: 100%;border-bottom: 1px solid gray;flex-grow: 1;}#sk-container-id-5 div.sk-label:hover label.sk-toggleable__label {background-color: #d4ebff;}#sk-container-id-5 div.sk-serial::before {content: \"\";position: absolute;border-left: 1px solid gray;box-sizing: border-box;top: 0;bottom: 0;left: 50%;z-index: 0;}#sk-container-id-5 div.sk-serial {display: flex;flex-direction: column;align-items: center;background-color: white;padding-right: 0.2em;padding-left: 0.2em;position: relative;}#sk-container-id-5 div.sk-item {position: relative;z-index: 1;}#sk-container-id-5 div.sk-parallel {display: flex;align-items: stretch;justify-content: center;background-color: white;position: relative;}#sk-container-id-5 div.sk-item::before, #sk-container-id-5 div.sk-parallel-item::before {content: \"\";position: absolute;border-left: 1px solid gray;box-sizing: border-box;top: 0;bottom: 0;left: 50%;z-index: -1;}#sk-container-id-5 div.sk-parallel-item {display: flex;flex-direction: column;z-index: 1;position: relative;background-color: white;}#sk-container-id-5 div.sk-parallel-item:first-child::after {align-self: flex-end;width: 50%;}#sk-container-id-5 div.sk-parallel-item:last-child::after {align-self: flex-start;width: 50%;}#sk-container-id-5 div.sk-parallel-item:only-child::after {width: 0;}#sk-container-id-5 div.sk-dashed-wrapped {border: 1px dashed gray;margin: 0 0.4em 0.5em 0.4em;box-sizing: border-box;padding-bottom: 0.4em;background-color: white;}#sk-container-id-5 div.sk-label label {font-family: monospace;font-weight: bold;display: inline-block;line-height: 1.2em;}#sk-container-id-5 div.sk-label-container {text-align: center;}#sk-container-id-5 div.sk-container {/* jupyter's `normalize.less` sets `[hidden] { display: none; }` but bootstrap.min.css set `[hidden] { display: none !important; }` so we also need the `!important` here to be able to override the default hidden behavior on the sphinx rendered scikit-learn.org. See: https://github.com/scikit-learn/scikit-learn/issues/21755 */display: inline-block !important;position: relative;}#sk-container-id-5 div.sk-text-repr-fallback {display: none;}</style><div id=\"sk-container-id-5\" class=\"sk-top-container\"><div class=\"sk-text-repr-fallback\"><pre>Pipeline(steps=[(&#x27;columntransformer&#x27;,\n",
       "                 ColumnTransformer(remainder=&#x27;passthrough&#x27;,\n",
       "                                   transformers=[(&#x27;robust_scaler&#x27;,\n",
       "                                                  RobustScaler(),\n",
       "                                                  [&#x27;Area&#x27;, &#x27;Perimeter&#x27;,\n",
       "                                                   &#x27;Major_Axis_Length&#x27;,\n",
       "                                                   &#x27;Minor_Axis_Length&#x27;,\n",
       "                                                   &#x27;Eccentricity&#x27;,\n",
       "                                                   &#x27;Convex_Area&#x27;,\n",
       "                                                   &#x27;Extent&#x27;])])),\n",
       "                (&#x27;adaboostclassifier&#x27;, AdaBoostClassifier(random_state=42))])</pre><b>In a Jupyter environment, please rerun this cell to show the HTML representation or trust the notebook. <br />On GitHub, the HTML representation is unable to render, please try loading this page with nbviewer.org.</b></div><div class=\"sk-container\" hidden><div class=\"sk-item sk-dashed-wrapped\"><div class=\"sk-label-container\"><div class=\"sk-label sk-toggleable\"><input class=\"sk-toggleable__control sk-hidden--visually\" id=\"sk-estimator-id-29\" type=\"checkbox\" ><label for=\"sk-estimator-id-29\" class=\"sk-toggleable__label sk-toggleable__label-arrow\">Pipeline</label><div class=\"sk-toggleable__content\"><pre>Pipeline(steps=[(&#x27;columntransformer&#x27;,\n",
       "                 ColumnTransformer(remainder=&#x27;passthrough&#x27;,\n",
       "                                   transformers=[(&#x27;robust_scaler&#x27;,\n",
       "                                                  RobustScaler(),\n",
       "                                                  [&#x27;Area&#x27;, &#x27;Perimeter&#x27;,\n",
       "                                                   &#x27;Major_Axis_Length&#x27;,\n",
       "                                                   &#x27;Minor_Axis_Length&#x27;,\n",
       "                                                   &#x27;Eccentricity&#x27;,\n",
       "                                                   &#x27;Convex_Area&#x27;,\n",
       "                                                   &#x27;Extent&#x27;])])),\n",
       "                (&#x27;adaboostclassifier&#x27;, AdaBoostClassifier(random_state=42))])</pre></div></div></div><div class=\"sk-serial\"><div class=\"sk-item sk-dashed-wrapped\"><div class=\"sk-label-container\"><div class=\"sk-label sk-toggleable\"><input class=\"sk-toggleable__control sk-hidden--visually\" id=\"sk-estimator-id-30\" type=\"checkbox\" ><label for=\"sk-estimator-id-30\" class=\"sk-toggleable__label sk-toggleable__label-arrow\">columntransformer: ColumnTransformer</label><div class=\"sk-toggleable__content\"><pre>ColumnTransformer(remainder=&#x27;passthrough&#x27;,\n",
       "                  transformers=[(&#x27;robust_scaler&#x27;, RobustScaler(),\n",
       "                                 [&#x27;Area&#x27;, &#x27;Perimeter&#x27;, &#x27;Major_Axis_Length&#x27;,\n",
       "                                  &#x27;Minor_Axis_Length&#x27;, &#x27;Eccentricity&#x27;,\n",
       "                                  &#x27;Convex_Area&#x27;, &#x27;Extent&#x27;])])</pre></div></div></div><div class=\"sk-parallel\"><div class=\"sk-parallel-item\"><div class=\"sk-item\"><div class=\"sk-label-container\"><div class=\"sk-label sk-toggleable\"><input class=\"sk-toggleable__control sk-hidden--visually\" id=\"sk-estimator-id-31\" type=\"checkbox\" ><label for=\"sk-estimator-id-31\" class=\"sk-toggleable__label sk-toggleable__label-arrow\">robust_scaler</label><div class=\"sk-toggleable__content\"><pre>[&#x27;Area&#x27;, &#x27;Perimeter&#x27;, &#x27;Major_Axis_Length&#x27;, &#x27;Minor_Axis_Length&#x27;, &#x27;Eccentricity&#x27;, &#x27;Convex_Area&#x27;, &#x27;Extent&#x27;]</pre></div></div></div><div class=\"sk-serial\"><div class=\"sk-item\"><div class=\"sk-estimator sk-toggleable\"><input class=\"sk-toggleable__control sk-hidden--visually\" id=\"sk-estimator-id-32\" type=\"checkbox\" ><label for=\"sk-estimator-id-32\" class=\"sk-toggleable__label sk-toggleable__label-arrow\">RobustScaler</label><div class=\"sk-toggleable__content\"><pre>RobustScaler()</pre></div></div></div></div></div></div><div class=\"sk-parallel-item\"><div class=\"sk-item\"><div class=\"sk-label-container\"><div class=\"sk-label sk-toggleable\"><input class=\"sk-toggleable__control sk-hidden--visually\" id=\"sk-estimator-id-33\" type=\"checkbox\" ><label for=\"sk-estimator-id-33\" class=\"sk-toggleable__label sk-toggleable__label-arrow\">remainder</label><div class=\"sk-toggleable__content\"><pre>[]</pre></div></div></div><div class=\"sk-serial\"><div class=\"sk-item\"><div class=\"sk-estimator sk-toggleable\"><input class=\"sk-toggleable__control sk-hidden--visually\" id=\"sk-estimator-id-34\" type=\"checkbox\" ><label for=\"sk-estimator-id-34\" class=\"sk-toggleable__label sk-toggleable__label-arrow\">passthrough</label><div class=\"sk-toggleable__content\"><pre>passthrough</pre></div></div></div></div></div></div></div></div><div class=\"sk-item\"><div class=\"sk-estimator sk-toggleable\"><input class=\"sk-toggleable__control sk-hidden--visually\" id=\"sk-estimator-id-35\" type=\"checkbox\" ><label for=\"sk-estimator-id-35\" class=\"sk-toggleable__label sk-toggleable__label-arrow\">AdaBoostClassifier</label><div class=\"sk-toggleable__content\"><pre>AdaBoostClassifier(random_state=42)</pre></div></div></div></div></div></div></div>"
      ],
      "text/plain": [
       "Pipeline(steps=[('columntransformer',\n",
       "                 ColumnTransformer(remainder='passthrough',\n",
       "                                   transformers=[('robust_scaler',\n",
       "                                                  RobustScaler(),\n",
       "                                                  ['Area', 'Perimeter',\n",
       "                                                   'Major_Axis_Length',\n",
       "                                                   'Minor_Axis_Length',\n",
       "                                                   'Eccentricity',\n",
       "                                                   'Convex_Area',\n",
       "                                                   'Extent'])])),\n",
       "                ('adaboostclassifier', AdaBoostClassifier(random_state=42))])"
      ]
     },
     "execution_count": 42,
     "metadata": {},
     "output_type": "execute_result"
    }
   ],
   "source": [
    "adaboost_pipeline.fit(X_train, y_train)"
   ]
  },
  {
   "cell_type": "code",
   "execution_count": 43,
   "metadata": {},
   "outputs": [],
   "source": [
    "y_train_predict_knn = knn_pipeline.predict(X_train)\n",
    "y_test_predict_knn = knn_pipeline.predict(X_test)\n",
    "\n",
    "y_train_predict_svm = svm_pipeline.predict(X_train)\n",
    "y_test_predict_svm = svm_pipeline.predict(X_test)\n",
    "\n",
    "y_train_predict_decision = decision_pipeline.predict(X_train)\n",
    "y_test_predict_decision = decision_pipeline.predict(X_test)\n",
    "\n",
    "y_train_predict_rf = random_forest_pipeline.predict(X_train)\n",
    "y_test_predict_rf = random_forest_pipeline.predict(X_test)\n",
    "\n",
    "y_train_predict_boost = adaboost_pipeline.predict(X_train)\n",
    "y_test_predict_boost = adaboost_pipeline.predict(X_test)"
   ]
  },
  {
   "cell_type": "code",
   "execution_count": 44,
   "metadata": {},
   "outputs": [
    {
     "name": "stdout",
     "output_type": "stream",
     "text": [
      "Classifier: K-Nearest Neighbors\n",
      "Train Classification Report:\n",
      "              precision    recall  f1-score   support\n",
      "\n",
      "   b'Cammeo'       0.93      0.92      0.92      1310\n",
      " b'Osmancik'       0.94      0.94      0.94      1738\n",
      "\n",
      "    accuracy                           0.93      3048\n",
      "   macro avg       0.93      0.93      0.93      3048\n",
      "weighted avg       0.93      0.93      0.93      3048\n",
      "\n",
      "Test Classification Report:\n",
      "              precision    recall  f1-score   support\n",
      "\n",
      "   b'Cammeo'       0.92      0.92      0.92       320\n",
      " b'Osmancik'       0.94      0.94      0.94       442\n",
      "\n",
      "    accuracy                           0.93       762\n",
      "   macro avg       0.93      0.93      0.93       762\n",
      "weighted avg       0.93      0.93      0.93       762\n",
      "\n",
      "==================================================\n",
      "\n",
      "Classifier: Support Vector Classifier\n",
      "Train Classification Report:\n",
      "              precision    recall  f1-score   support\n",
      "\n",
      "   b'Cammeo'       0.92      0.91      0.91      1310\n",
      " b'Osmancik'       0.93      0.94      0.94      1738\n",
      "\n",
      "    accuracy                           0.93      3048\n",
      "   macro avg       0.93      0.92      0.93      3048\n",
      "weighted avg       0.93      0.93      0.93      3048\n",
      "\n",
      "Test Classification Report:\n",
      "              precision    recall  f1-score   support\n",
      "\n",
      "   b'Cammeo'       0.93      0.94      0.93       320\n",
      " b'Osmancik'       0.95      0.95      0.95       442\n",
      "\n",
      "    accuracy                           0.94       762\n",
      "   macro avg       0.94      0.94      0.94       762\n",
      "weighted avg       0.94      0.94      0.94       762\n",
      "\n",
      "==================================================\n",
      "\n",
      "Classifier: Decision Tree\n",
      "Train Classification Report:\n",
      "              precision    recall  f1-score   support\n",
      "\n",
      "   b'Cammeo'       1.00      1.00      1.00      1310\n",
      " b'Osmancik'       1.00      1.00      1.00      1738\n",
      "\n",
      "    accuracy                           1.00      3048\n",
      "   macro avg       1.00      1.00      1.00      3048\n",
      "weighted avg       1.00      1.00      1.00      3048\n",
      "\n",
      "Test Classification Report:\n",
      "              precision    recall  f1-score   support\n",
      "\n",
      "   b'Cammeo'       0.89      0.90      0.90       320\n",
      " b'Osmancik'       0.93      0.92      0.93       442\n",
      "\n",
      "    accuracy                           0.91       762\n",
      "   macro avg       0.91      0.91      0.91       762\n",
      "weighted avg       0.91      0.91      0.91       762\n",
      "\n",
      "==================================================\n",
      "\n",
      "Classifier: Random Forest\n",
      "Train Classification Report:\n",
      "              precision    recall  f1-score   support\n",
      "\n",
      "   b'Cammeo'       1.00      1.00      1.00      1310\n",
      " b'Osmancik'       1.00      1.00      1.00      1738\n",
      "\n",
      "    accuracy                           1.00      3048\n",
      "   macro avg       1.00      1.00      1.00      3048\n",
      "weighted avg       1.00      1.00      1.00      3048\n",
      "\n",
      "Test Classification Report:\n",
      "              precision    recall  f1-score   support\n",
      "\n",
      "   b'Cammeo'       0.92      0.92      0.92       320\n",
      " b'Osmancik'       0.94      0.94      0.94       442\n",
      "\n",
      "    accuracy                           0.93       762\n",
      "   macro avg       0.93      0.93      0.93       762\n",
      "weighted avg       0.93      0.93      0.93       762\n",
      "\n",
      "==================================================\n",
      "\n",
      "Classifier: Ada Boost\n",
      "Train Classification Report:\n",
      "              precision    recall  f1-score   support\n",
      "\n",
      "   b'Cammeo'       0.93      0.91      0.92      1310\n",
      " b'Osmancik'       0.93      0.95      0.94      1738\n",
      "\n",
      "    accuracy                           0.93      3048\n",
      "   macro avg       0.93      0.93      0.93      3048\n",
      "weighted avg       0.93      0.93      0.93      3048\n",
      "\n",
      "Test Classification Report:\n",
      "              precision    recall  f1-score   support\n",
      "\n",
      "   b'Cammeo'       0.93      0.93      0.93       320\n",
      " b'Osmancik'       0.95      0.95      0.95       442\n",
      "\n",
      "    accuracy                           0.94       762\n",
      "   macro avg       0.94      0.94      0.94       762\n",
      "weighted avg       0.94      0.94      0.94       762\n",
      "\n",
      "==================================================\n",
      "\n"
     ]
    }
   ],
   "source": [
    "classifiers = [\n",
    "    (\"K-Nearest Neighbors\", knn_pipeline, X_train, X_test),\n",
    "    (\"Support Vector Classifier\", svm_pipeline, X_train, X_test),\n",
    "    (\"Decision Tree\", decision_pipeline, X_train, X_test),\n",
    "    (\"Random Forest\", random_forest_pipeline, X_train, X_test),\n",
    "    (\"Ada Boost\", adaboost_pipeline, X_train, X_test),\n",
    "]\n",
    "\n",
    "for name, pipeline, X_train, X_test in classifiers:\n",
    "    y_train_predict = pipeline.predict(X_train)\n",
    "    y_test_predict = pipeline.predict(X_test)\n",
    "    \n",
    "    train_report = classification_report(y_train, y_train_predict)\n",
    "    test_report = classification_report(y_test, y_test_predict)\n",
    "\n",
    "    print(f\"Classifier: {name}\")\n",
    "    print(\"Train Classification Report:\")\n",
    "    print(train_report)\n",
    "    print(\"Test Classification Report:\")\n",
    "    print(test_report)\n",
    "    print(\"=\"*50)\n",
    "    print()"
   ]
  },
  {
   "cell_type": "code",
   "execution_count": 45,
   "metadata": {},
   "outputs": [],
   "source": [
    "# Define the parameter grid you want to search\n",
    "param_grid = {\n",
    "    # 'randomforestclassifier__ran_estimators': [100, 200, 300],  # Number of trees in the forest\n",
    "    'randomforestclassifier__max_depth': [None, 10, 20, 30],  # Maximum depth of the tree\n",
    "    'randomforestclassifier__min_samples_split': [2, 5, 10],  # Minimum number of samples required to split an internal node\n",
    "    'randomforestclassifier__min_samples_leaf': [1, 2, 4]  # Minimum number of samples required to be at a leaf node\n",
    "}"
   ]
  },
  {
   "cell_type": "code",
   "execution_count": 46,
   "metadata": {},
   "outputs": [
    {
     "name": "stdout",
     "output_type": "stream",
     "text": [
      "Best Parameters: {'randomforestclassifier__max_depth': 10, 'randomforestclassifier__min_samples_leaf': 4, 'randomforestclassifier__min_samples_split': 10}\n",
      "Best Score (Accuracy): 0.9206019004549247\n"
     ]
    }
   ],
   "source": [
    "# Create a Random Forest classifier\n",
    "rf_classifier = RandomForestClassifier(random_state=42)\n",
    "\n",
    "# Create a GridSearchCV object\n",
    "grid_search = GridSearchCV(estimator=random_forest_pipeline, param_grid=param_grid, cv=5, scoring='accuracy', n_jobs=-1)\n",
    "\n",
    "# Fit the grid search to your data\n",
    "grid_search.fit(X_train, y_train)\n",
    "\n",
    "# Get the best parameters and best score\n",
    "best_params = grid_search.best_params_\n",
    "best_score = grid_search.best_score_\n",
    "\n",
    "print(\"Best Parameters:\", best_params)\n",
    "print(\"Best Score (Accuracy):\", best_score)"
   ]
  },
  {
   "cell_type": "markdown",
   "metadata": {},
   "source": [
    "# 8. Model Evaluation"
   ]
  },
  {
   "cell_type": "code",
   "execution_count": 47,
   "metadata": {},
   "outputs": [
    {
     "data": {
      "text/html": [
       "<style>#sk-container-id-6 {color: black;background-color: white;}#sk-container-id-6 pre{padding: 0;}#sk-container-id-6 div.sk-toggleable {background-color: white;}#sk-container-id-6 label.sk-toggleable__label {cursor: pointer;display: block;width: 100%;margin-bottom: 0;padding: 0.3em;box-sizing: border-box;text-align: center;}#sk-container-id-6 label.sk-toggleable__label-arrow:before {content: \"▸\";float: left;margin-right: 0.25em;color: #696969;}#sk-container-id-6 label.sk-toggleable__label-arrow:hover:before {color: black;}#sk-container-id-6 div.sk-estimator:hover label.sk-toggleable__label-arrow:before {color: black;}#sk-container-id-6 div.sk-toggleable__content {max-height: 0;max-width: 0;overflow: hidden;text-align: left;background-color: #f0f8ff;}#sk-container-id-6 div.sk-toggleable__content pre {margin: 0.2em;color: black;border-radius: 0.25em;background-color: #f0f8ff;}#sk-container-id-6 input.sk-toggleable__control:checked~div.sk-toggleable__content {max-height: 200px;max-width: 100%;overflow: auto;}#sk-container-id-6 input.sk-toggleable__control:checked~label.sk-toggleable__label-arrow:before {content: \"▾\";}#sk-container-id-6 div.sk-estimator input.sk-toggleable__control:checked~label.sk-toggleable__label {background-color: #d4ebff;}#sk-container-id-6 div.sk-label input.sk-toggleable__control:checked~label.sk-toggleable__label {background-color: #d4ebff;}#sk-container-id-6 input.sk-hidden--visually {border: 0;clip: rect(1px 1px 1px 1px);clip: rect(1px, 1px, 1px, 1px);height: 1px;margin: -1px;overflow: hidden;padding: 0;position: absolute;width: 1px;}#sk-container-id-6 div.sk-estimator {font-family: monospace;background-color: #f0f8ff;border: 1px dotted black;border-radius: 0.25em;box-sizing: border-box;margin-bottom: 0.5em;}#sk-container-id-6 div.sk-estimator:hover {background-color: #d4ebff;}#sk-container-id-6 div.sk-parallel-item::after {content: \"\";width: 100%;border-bottom: 1px solid gray;flex-grow: 1;}#sk-container-id-6 div.sk-label:hover label.sk-toggleable__label {background-color: #d4ebff;}#sk-container-id-6 div.sk-serial::before {content: \"\";position: absolute;border-left: 1px solid gray;box-sizing: border-box;top: 0;bottom: 0;left: 50%;z-index: 0;}#sk-container-id-6 div.sk-serial {display: flex;flex-direction: column;align-items: center;background-color: white;padding-right: 0.2em;padding-left: 0.2em;position: relative;}#sk-container-id-6 div.sk-item {position: relative;z-index: 1;}#sk-container-id-6 div.sk-parallel {display: flex;align-items: stretch;justify-content: center;background-color: white;position: relative;}#sk-container-id-6 div.sk-item::before, #sk-container-id-6 div.sk-parallel-item::before {content: \"\";position: absolute;border-left: 1px solid gray;box-sizing: border-box;top: 0;bottom: 0;left: 50%;z-index: -1;}#sk-container-id-6 div.sk-parallel-item {display: flex;flex-direction: column;z-index: 1;position: relative;background-color: white;}#sk-container-id-6 div.sk-parallel-item:first-child::after {align-self: flex-end;width: 50%;}#sk-container-id-6 div.sk-parallel-item:last-child::after {align-self: flex-start;width: 50%;}#sk-container-id-6 div.sk-parallel-item:only-child::after {width: 0;}#sk-container-id-6 div.sk-dashed-wrapped {border: 1px dashed gray;margin: 0 0.4em 0.5em 0.4em;box-sizing: border-box;padding-bottom: 0.4em;background-color: white;}#sk-container-id-6 div.sk-label label {font-family: monospace;font-weight: bold;display: inline-block;line-height: 1.2em;}#sk-container-id-6 div.sk-label-container {text-align: center;}#sk-container-id-6 div.sk-container {/* jupyter's `normalize.less` sets `[hidden] { display: none; }` but bootstrap.min.css set `[hidden] { display: none !important; }` so we also need the `!important` here to be able to override the default hidden behavior on the sphinx rendered scikit-learn.org. See: https://github.com/scikit-learn/scikit-learn/issues/21755 */display: inline-block !important;position: relative;}#sk-container-id-6 div.sk-text-repr-fallback {display: none;}</style><div id=\"sk-container-id-6\" class=\"sk-top-container\"><div class=\"sk-text-repr-fallback\"><pre>Pipeline(steps=[(&#x27;columntransformer&#x27;,\n",
       "                 ColumnTransformer(remainder=&#x27;passthrough&#x27;,\n",
       "                                   transformers=[(&#x27;robust_scaler&#x27;,\n",
       "                                                  RobustScaler(),\n",
       "                                                  [&#x27;Area&#x27;, &#x27;Perimeter&#x27;,\n",
       "                                                   &#x27;Major_Axis_Length&#x27;,\n",
       "                                                   &#x27;Minor_Axis_Length&#x27;,\n",
       "                                                   &#x27;Eccentricity&#x27;,\n",
       "                                                   &#x27;Convex_Area&#x27;,\n",
       "                                                   &#x27;Extent&#x27;])])),\n",
       "                (&#x27;randomforestclassifier&#x27;,\n",
       "                 RandomForestClassifier(max_depth=10, min_samples_leaf=4,\n",
       "                                        min_samples_split=10,\n",
       "                                        random_state=42))])</pre><b>In a Jupyter environment, please rerun this cell to show the HTML representation or trust the notebook. <br />On GitHub, the HTML representation is unable to render, please try loading this page with nbviewer.org.</b></div><div class=\"sk-container\" hidden><div class=\"sk-item sk-dashed-wrapped\"><div class=\"sk-label-container\"><div class=\"sk-label sk-toggleable\"><input class=\"sk-toggleable__control sk-hidden--visually\" id=\"sk-estimator-id-36\" type=\"checkbox\" ><label for=\"sk-estimator-id-36\" class=\"sk-toggleable__label sk-toggleable__label-arrow\">Pipeline</label><div class=\"sk-toggleable__content\"><pre>Pipeline(steps=[(&#x27;columntransformer&#x27;,\n",
       "                 ColumnTransformer(remainder=&#x27;passthrough&#x27;,\n",
       "                                   transformers=[(&#x27;robust_scaler&#x27;,\n",
       "                                                  RobustScaler(),\n",
       "                                                  [&#x27;Area&#x27;, &#x27;Perimeter&#x27;,\n",
       "                                                   &#x27;Major_Axis_Length&#x27;,\n",
       "                                                   &#x27;Minor_Axis_Length&#x27;,\n",
       "                                                   &#x27;Eccentricity&#x27;,\n",
       "                                                   &#x27;Convex_Area&#x27;,\n",
       "                                                   &#x27;Extent&#x27;])])),\n",
       "                (&#x27;randomforestclassifier&#x27;,\n",
       "                 RandomForestClassifier(max_depth=10, min_samples_leaf=4,\n",
       "                                        min_samples_split=10,\n",
       "                                        random_state=42))])</pre></div></div></div><div class=\"sk-serial\"><div class=\"sk-item sk-dashed-wrapped\"><div class=\"sk-label-container\"><div class=\"sk-label sk-toggleable\"><input class=\"sk-toggleable__control sk-hidden--visually\" id=\"sk-estimator-id-37\" type=\"checkbox\" ><label for=\"sk-estimator-id-37\" class=\"sk-toggleable__label sk-toggleable__label-arrow\">columntransformer: ColumnTransformer</label><div class=\"sk-toggleable__content\"><pre>ColumnTransformer(remainder=&#x27;passthrough&#x27;,\n",
       "                  transformers=[(&#x27;robust_scaler&#x27;, RobustScaler(),\n",
       "                                 [&#x27;Area&#x27;, &#x27;Perimeter&#x27;, &#x27;Major_Axis_Length&#x27;,\n",
       "                                  &#x27;Minor_Axis_Length&#x27;, &#x27;Eccentricity&#x27;,\n",
       "                                  &#x27;Convex_Area&#x27;, &#x27;Extent&#x27;])])</pre></div></div></div><div class=\"sk-parallel\"><div class=\"sk-parallel-item\"><div class=\"sk-item\"><div class=\"sk-label-container\"><div class=\"sk-label sk-toggleable\"><input class=\"sk-toggleable__control sk-hidden--visually\" id=\"sk-estimator-id-38\" type=\"checkbox\" ><label for=\"sk-estimator-id-38\" class=\"sk-toggleable__label sk-toggleable__label-arrow\">robust_scaler</label><div class=\"sk-toggleable__content\"><pre>[&#x27;Area&#x27;, &#x27;Perimeter&#x27;, &#x27;Major_Axis_Length&#x27;, &#x27;Minor_Axis_Length&#x27;, &#x27;Eccentricity&#x27;, &#x27;Convex_Area&#x27;, &#x27;Extent&#x27;]</pre></div></div></div><div class=\"sk-serial\"><div class=\"sk-item\"><div class=\"sk-estimator sk-toggleable\"><input class=\"sk-toggleable__control sk-hidden--visually\" id=\"sk-estimator-id-39\" type=\"checkbox\" ><label for=\"sk-estimator-id-39\" class=\"sk-toggleable__label sk-toggleable__label-arrow\">RobustScaler</label><div class=\"sk-toggleable__content\"><pre>RobustScaler()</pre></div></div></div></div></div></div><div class=\"sk-parallel-item\"><div class=\"sk-item\"><div class=\"sk-label-container\"><div class=\"sk-label sk-toggleable\"><input class=\"sk-toggleable__control sk-hidden--visually\" id=\"sk-estimator-id-40\" type=\"checkbox\" ><label for=\"sk-estimator-id-40\" class=\"sk-toggleable__label sk-toggleable__label-arrow\">remainder</label><div class=\"sk-toggleable__content\"><pre>[]</pre></div></div></div><div class=\"sk-serial\"><div class=\"sk-item\"><div class=\"sk-estimator sk-toggleable\"><input class=\"sk-toggleable__control sk-hidden--visually\" id=\"sk-estimator-id-41\" type=\"checkbox\" ><label for=\"sk-estimator-id-41\" class=\"sk-toggleable__label sk-toggleable__label-arrow\">passthrough</label><div class=\"sk-toggleable__content\"><pre>passthrough</pre></div></div></div></div></div></div></div></div><div class=\"sk-item\"><div class=\"sk-estimator sk-toggleable\"><input class=\"sk-toggleable__control sk-hidden--visually\" id=\"sk-estimator-id-42\" type=\"checkbox\" ><label for=\"sk-estimator-id-42\" class=\"sk-toggleable__label sk-toggleable__label-arrow\">RandomForestClassifier</label><div class=\"sk-toggleable__content\"><pre>RandomForestClassifier(max_depth=10, min_samples_leaf=4, min_samples_split=10,\n",
       "                       random_state=42)</pre></div></div></div></div></div></div></div>"
      ],
      "text/plain": [
       "Pipeline(steps=[('columntransformer',\n",
       "                 ColumnTransformer(remainder='passthrough',\n",
       "                                   transformers=[('robust_scaler',\n",
       "                                                  RobustScaler(),\n",
       "                                                  ['Area', 'Perimeter',\n",
       "                                                   'Major_Axis_Length',\n",
       "                                                   'Minor_Axis_Length',\n",
       "                                                   'Eccentricity',\n",
       "                                                   'Convex_Area',\n",
       "                                                   'Extent'])])),\n",
       "                ('randomforestclassifier',\n",
       "                 RandomForestClassifier(max_depth=10, min_samples_leaf=4,\n",
       "                                        min_samples_split=10,\n",
       "                                        random_state=42))])"
      ]
     },
     "execution_count": 47,
     "metadata": {},
     "output_type": "execute_result"
    }
   ],
   "source": [
    "grid_best = grid_search.best_estimator_ \n",
    "grid_best"
   ]
  },
  {
   "cell_type": "code",
   "execution_count": 48,
   "metadata": {},
   "outputs": [
    {
     "data": {
      "text/plain": [
       "{'randomforestclassifier__max_depth': 10,\n",
       " 'randomforestclassifier__min_samples_leaf': 4,\n",
       " 'randomforestclassifier__min_samples_split': 10}"
      ]
     },
     "execution_count": 48,
     "metadata": {},
     "output_type": "execute_result"
    }
   ],
   "source": [
    "# hypertuning\n",
    "# Get Best Hyperparameters\n",
    "\n",
    "grid_search.best_params_"
   ]
  },
  {
   "cell_type": "code",
   "execution_count": 49,
   "metadata": {},
   "outputs": [
    {
     "data": {
      "text/plain": [
       "0.9206019004549247"
      ]
     },
     "execution_count": 49,
     "metadata": {},
     "output_type": "execute_result"
    }
   ],
   "source": [
    "grid_search.best_score_"
   ]
  },
  {
   "cell_type": "markdown",
   "metadata": {},
   "source": [
    "# 9. Model Saving"
   ]
  },
  {
   "cell_type": "code",
   "execution_count": 53,
   "metadata": {},
   "outputs": [],
   "source": [
    "# Menyimpan model menggunakan pickle\n",
    "with open('model_grid.pkl', 'wb') as file:\n",
    "    pickle.dump((grid_best), file)"
   ]
  },
  {
   "cell_type": "code",
   "execution_count": 55,
   "metadata": {},
   "outputs": [
    {
     "name": "stdout",
     "output_type": "stream",
     "text": [
      "1.2.2\n"
     ]
    }
   ],
   "source": [
    "import sklearn \n",
    "print(sklearn.__version__)"
   ]
  },
  {
   "cell_type": "markdown",
   "metadata": {},
   "source": [
    "# 10. Model Inference"
   ]
  },
  {
   "cell_type": "markdown",
   "metadata": {},
   "source": [
    "Di file yang lain."
   ]
  },
  {
   "cell_type": "markdown",
   "metadata": {},
   "source": [
    "# 11. Pengambilan Kesimpulan"
   ]
  },
  {
   "cell_type": "markdown",
   "metadata": {},
   "source": [
    "- Model yang dimiliki telah mengalami proses pencarian parameter yang baik, menghasilkan akurasi yang cukup tinggi, dan memiliki parameter-parameter yang menghindari overfitting. \n",
    "- Dari perhitungan model yang digunakan, model yang terbaik digunakan model random forest.\n",
    "- klasifikasi akurasi yang dilakukan, model dengan akurasi tertinggi dianggap sebagai model terbaik.\n",
    "- Dari best parameter didapatkan menggunakan Classifier Random Forest.\n",
    "- Yang dimana untuk randomforestclassifier max depth bernilai 10, randomforestclassifier min samples leaf bernilai 4, dan randomforestclassifier min samples split bernilai 10.\n"
   ]
  },
  {
   "cell_type": "markdown",
   "metadata": {},
   "source": [
    "# Conceptual Problems"
   ]
  },
  {
   "cell_type": "markdown",
   "metadata": {},
   "source": [
    "1. Jelaskan latar belakang adanya bagging dan cara kerja bagging !\n",
    "> adalah salah satu metode ensemble learning yang digunakan dalam machine learning. Ide dasar di balik bagging adalah menggabungkan hasil prediksi beberapa model machine learning yang berbeda untuk meningkatkan kinerja dan akurasi prediksi.\n",
    "\n",
    "> cara kerja;\n",
    "> - Bootstrap Sampling\n",
    "> - Pembuatan Model: Membangun Model Tumpukan\n",
    "> - Voting atau Rata-rata Hasil\n",
    "> - Mengurangi Varians\n",
    "> - Mengurangi Varians\n",
    "\n",
    "2. Jelaskan perbedaan cara kerja algoritma Random Forest dengan algoritma boosting yang Anda pilih !\n",
    "> Cara kerja Random Forest;\n",
    "> - Pemilihan Sampel Acak: Algoritma Random Forest memulai dengan pemilihan sampel acak dari dataset pelatihan. \n",
    "> - Pembangunan Pohon Keputusan: Untuk setiap sampel, algoritma membangun pohon keputusan. Pohon ini adalah model dasar dalam Random Forest.\n",
    "> - Prediksi oleh Setiap Pohon: Setelah semua pohon selesai dibangun, dapat menggunakan setiap pohon untuk membuat prediksi terhadap data uji atau data baru. \n",
    "> - Aggregasi Prediksi: Prediksi dari semua pohon digabungkan untuk menghasilkan hasil akhir.\n",
    "\n",
    "> RandomForestClassifier (bagian dari scikit-learn);\n",
    "> - Pemilihan Sampel Acak : mengambil sampel acak dengan penggantian. Sampel digunakan untuk setiap keputusan.\n",
    "> - Pemilihan fitur acak : sejumlah fitur acak yang dipertimbangkan untuk pemisahan di setiap simpul.\n",
    "> - Jumlah pohon : semakin banyak pohon, semakin baik ensemble bisa bekerja, tetapi juga semakin mahal komputasinya.\n",
    "> - Klasifikasi: Hasil akhir kelas yang muncul paling sering di antara prediksi-prediksi pohon digunakan sebagai hasil prediksi ensemble.\n",
    "\n",
    "3. Jelaskan apa yang dimaksud dengan Cross Validation !\n",
    "> adalah teknik penting dalam machine learning yang digunakan untuk mengevaluasi kinerja model dengan cara yang lebih andal daripada sekadar membagi dataset menjadi satu set pelatihan dan satu set pengujian."
   ]
  },
  {
   "cell_type": "markdown",
   "metadata": {},
   "source": []
  }
 ],
 "metadata": {
  "kernelspec": {
   "display_name": "hacktiv",
   "language": "python",
   "name": "python3"
  },
  "language_info": {
   "codemirror_mode": {
    "name": "ipython",
    "version": 3
   },
   "file_extension": ".py",
   "mimetype": "text/x-python",
   "name": "python",
   "nbconvert_exporter": "python",
   "pygments_lexer": "ipython3",
   "version": "3.11.5"
  }
 },
 "nbformat": 4,
 "nbformat_minor": 2
}
